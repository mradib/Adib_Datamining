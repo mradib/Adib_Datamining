{
 "metadata": {
  "language_info": {
   "codemirror_mode": {
    "name": "ipython",
    "version": 3
   },
   "file_extension": ".py",
   "mimetype": "text/x-python",
   "name": "python",
   "nbconvert_exporter": "python",
   "pygments_lexer": "ipython3",
   "version": "3.8.5-final"
  },
  "orig_nbformat": 2,
  "kernelspec": {
   "name": "python3",
   "display_name": "Python 3.8.5 64-bit ('python38': conda)",
   "metadata": {
    "interpreter": {
     "hash": "660dbde8c585f4fcc1c5ede36c8625e9911c54259ffe6f86904882eb5be9414a"
    }
   }
  }
 },
 "nbformat": 4,
 "nbformat_minor": 2,
 "cells": [
  {
   "cell_type": "code",
   "execution_count": 54,
   "metadata": {},
   "outputs": [
    {
     "output_type": "stream",
     "name": "stdout",
     "text": [
      "           City country_id      Country Latitude Longitude\n0      Auckland        NEW  New Zealand   36.17S   175.03E\n1      Auckland        NEW  New Zealand   36.17S   175.03E\n2      Auckland        NEW  New Zealand   36.17S   175.03E\n3      Auckland        NEW  New Zealand   36.17S   175.03E\n4      Auckland        NEW  New Zealand   36.17S   175.03E\n...         ...        ...          ...      ...       ...\n48465   Wroclaw        POL       Poland   50.63N    16.48E\n48466   Wroclaw        POL       Poland   50.63N    16.48E\n48467   Wroclaw        POL       Poland   50.63N    16.48E\n48468   Wroclaw        POL       Poland   50.63N    16.48E\n48469   Wroclaw        POL       Poland   50.63N    16.48E\n\n[48470 rows x 5 columns]\n"
     ]
    }
   ],
   "source": [
    "import pandas as pd\n",
    "df = pd.read_csv(\"data/temfile.csv\")\n",
    "print(df)"
   ]
  },
  {
   "cell_type": "code",
   "execution_count": 55,
   "metadata": {},
   "outputs": [
    {
     "output_type": "execute_result",
     "data": {
      "text/plain": [
       "       City country_id      Country Latitude Longitude\n",
       "0  Auckland        NEW  New Zealand   36.17S   175.03E\n",
       "1  Auckland        NEW  New Zealand   36.17S   175.03E\n",
       "2  Auckland        NEW  New Zealand   36.17S   175.03E\n",
       "3  Auckland        NEW  New Zealand   36.17S   175.03E\n",
       "4  Auckland        NEW  New Zealand   36.17S   175.03E"
      ],
      "text/html": "<div>\n<style scoped>\n    .dataframe tbody tr th:only-of-type {\n        vertical-align: middle;\n    }\n\n    .dataframe tbody tr th {\n        vertical-align: top;\n    }\n\n    .dataframe thead th {\n        text-align: right;\n    }\n</style>\n<table border=\"1\" class=\"dataframe\">\n  <thead>\n    <tr style=\"text-align: right;\">\n      <th></th>\n      <th>City</th>\n      <th>country_id</th>\n      <th>Country</th>\n      <th>Latitude</th>\n      <th>Longitude</th>\n    </tr>\n  </thead>\n  <tbody>\n    <tr>\n      <th>0</th>\n      <td>Auckland</td>\n      <td>NEW</td>\n      <td>New Zealand</td>\n      <td>36.17S</td>\n      <td>175.03E</td>\n    </tr>\n    <tr>\n      <th>1</th>\n      <td>Auckland</td>\n      <td>NEW</td>\n      <td>New Zealand</td>\n      <td>36.17S</td>\n      <td>175.03E</td>\n    </tr>\n    <tr>\n      <th>2</th>\n      <td>Auckland</td>\n      <td>NEW</td>\n      <td>New Zealand</td>\n      <td>36.17S</td>\n      <td>175.03E</td>\n    </tr>\n    <tr>\n      <th>3</th>\n      <td>Auckland</td>\n      <td>NEW</td>\n      <td>New Zealand</td>\n      <td>36.17S</td>\n      <td>175.03E</td>\n    </tr>\n    <tr>\n      <th>4</th>\n      <td>Auckland</td>\n      <td>NEW</td>\n      <td>New Zealand</td>\n      <td>36.17S</td>\n      <td>175.03E</td>\n    </tr>\n  </tbody>\n</table>\n</div>"
     },
     "metadata": {},
     "execution_count": 55
    }
   ],
   "source": [
    "df.head()"
   ]
  },
  {
   "cell_type": "code",
   "execution_count": 56,
   "metadata": {},
   "outputs": [
    {
     "output_type": "execute_result",
     "data": {
      "text/plain": [
       "          City country_id Country Latitude Longitude\n",
       "48465  Wroclaw        POL  Poland   50.63N    16.48E\n",
       "48466  Wroclaw        POL  Poland   50.63N    16.48E\n",
       "48467  Wroclaw        POL  Poland   50.63N    16.48E\n",
       "48468  Wroclaw        POL  Poland   50.63N    16.48E\n",
       "48469  Wroclaw        POL  Poland   50.63N    16.48E"
      ],
      "text/html": "<div>\n<style scoped>\n    .dataframe tbody tr th:only-of-type {\n        vertical-align: middle;\n    }\n\n    .dataframe tbody tr th {\n        vertical-align: top;\n    }\n\n    .dataframe thead th {\n        text-align: right;\n    }\n</style>\n<table border=\"1\" class=\"dataframe\">\n  <thead>\n    <tr style=\"text-align: right;\">\n      <th></th>\n      <th>City</th>\n      <th>country_id</th>\n      <th>Country</th>\n      <th>Latitude</th>\n      <th>Longitude</th>\n    </tr>\n  </thead>\n  <tbody>\n    <tr>\n      <th>48465</th>\n      <td>Wroclaw</td>\n      <td>POL</td>\n      <td>Poland</td>\n      <td>50.63N</td>\n      <td>16.48E</td>\n    </tr>\n    <tr>\n      <th>48466</th>\n      <td>Wroclaw</td>\n      <td>POL</td>\n      <td>Poland</td>\n      <td>50.63N</td>\n      <td>16.48E</td>\n    </tr>\n    <tr>\n      <th>48467</th>\n      <td>Wroclaw</td>\n      <td>POL</td>\n      <td>Poland</td>\n      <td>50.63N</td>\n      <td>16.48E</td>\n    </tr>\n    <tr>\n      <th>48468</th>\n      <td>Wroclaw</td>\n      <td>POL</td>\n      <td>Poland</td>\n      <td>50.63N</td>\n      <td>16.48E</td>\n    </tr>\n    <tr>\n      <th>48469</th>\n      <td>Wroclaw</td>\n      <td>POL</td>\n      <td>Poland</td>\n      <td>50.63N</td>\n      <td>16.48E</td>\n    </tr>\n  </tbody>\n</table>\n</div>"
     },
     "metadata": {},
     "execution_count": 56
    }
   ],
   "source": [
    "df.tail()"
   ]
  },
  {
   "cell_type": "code",
   "execution_count": 57,
   "metadata": {},
   "outputs": [],
   "source": [
    "from sklearn.preprocessing import LabelEncoder"
   ]
  },
  {
   "cell_type": "code",
   "execution_count": 58,
   "metadata": {},
   "outputs": [],
   "source": [
    "labelencoder=LabelEncoder()"
   ]
  },
  {
   "source": [
    "df = df.dropna()\n",
    "df = df.drop_duplicates()\n",
    "df"
   ],
   "cell_type": "code",
   "metadata": {},
   "execution_count": 69,
   "outputs": [
    {
     "output_type": "execute_result",
     "data": {
      "text/plain": [
       "               City country_id       Country Latitude Longitude  citycat\n",
       "0          Auckland        NEW   New Zealand   36.17S   175.03E        0\n",
       "1929       Brasília        BRA        Brazil   15.27S    47.50W        1\n",
       "4110         Canoas        BRA        Brazil   29.74S    51.69W        2\n",
       "6291      Cape Town        SOU  South Africa   32.95S    18.19E        3\n",
       "8172       Hamilton        NEW   New Zealand   37.78S   174.92E        4\n",
       "10101  Johannesburg        SOU  South Africa   26.52S    28.66E        5\n",
       "11982       Kherson        UKR       Ukraine   47.42N    31.97E        6\n",
       "15221          Kiev        UKR       Ukraine   50.63N    31.69E        7\n",
       "18460          Lvov        UKR       Ukraine   50.63N    24.08E        8\n",
       "21699     Marseille        FRA        France   42.59N     6.55E        9\n",
       "24938         Odesa        UKR       Ukraine   45.81N    31.15E       10\n",
       "28177         Paris        FRA        France   49.03N     2.45E       11\n",
       "31416     Stockholm        SWE        Sweden   58.66N    18.46E       12\n",
       "34655         Tokyo        JAP         Japan   36.17N   139.23E       13\n",
       "36680       Tottori        JAP         Japan   34.56N   134.27E       14\n",
       "38753       Uppsala        SWE        Sweden   60.27N    16.22E       15\n",
       "41992        Warsaw        POL        Poland   52.24N    21.02E       16\n",
       "45231       Wroclaw        POL        Poland   50.63N    16.48E       17"
      ],
      "text/html": "<div>\n<style scoped>\n    .dataframe tbody tr th:only-of-type {\n        vertical-align: middle;\n    }\n\n    .dataframe tbody tr th {\n        vertical-align: top;\n    }\n\n    .dataframe thead th {\n        text-align: right;\n    }\n</style>\n<table border=\"1\" class=\"dataframe\">\n  <thead>\n    <tr style=\"text-align: right;\">\n      <th></th>\n      <th>City</th>\n      <th>country_id</th>\n      <th>Country</th>\n      <th>Latitude</th>\n      <th>Longitude</th>\n      <th>citycat</th>\n    </tr>\n  </thead>\n  <tbody>\n    <tr>\n      <th>0</th>\n      <td>Auckland</td>\n      <td>NEW</td>\n      <td>New Zealand</td>\n      <td>36.17S</td>\n      <td>175.03E</td>\n      <td>0</td>\n    </tr>\n    <tr>\n      <th>1929</th>\n      <td>Brasília</td>\n      <td>BRA</td>\n      <td>Brazil</td>\n      <td>15.27S</td>\n      <td>47.50W</td>\n      <td>1</td>\n    </tr>\n    <tr>\n      <th>4110</th>\n      <td>Canoas</td>\n      <td>BRA</td>\n      <td>Brazil</td>\n      <td>29.74S</td>\n      <td>51.69W</td>\n      <td>2</td>\n    </tr>\n    <tr>\n      <th>6291</th>\n      <td>Cape Town</td>\n      <td>SOU</td>\n      <td>South Africa</td>\n      <td>32.95S</td>\n      <td>18.19E</td>\n      <td>3</td>\n    </tr>\n    <tr>\n      <th>8172</th>\n      <td>Hamilton</td>\n      <td>NEW</td>\n      <td>New Zealand</td>\n      <td>37.78S</td>\n      <td>174.92E</td>\n      <td>4</td>\n    </tr>\n    <tr>\n      <th>10101</th>\n      <td>Johannesburg</td>\n      <td>SOU</td>\n      <td>South Africa</td>\n      <td>26.52S</td>\n      <td>28.66E</td>\n      <td>5</td>\n    </tr>\n    <tr>\n      <th>11982</th>\n      <td>Kherson</td>\n      <td>UKR</td>\n      <td>Ukraine</td>\n      <td>47.42N</td>\n      <td>31.97E</td>\n      <td>6</td>\n    </tr>\n    <tr>\n      <th>15221</th>\n      <td>Kiev</td>\n      <td>UKR</td>\n      <td>Ukraine</td>\n      <td>50.63N</td>\n      <td>31.69E</td>\n      <td>7</td>\n    </tr>\n    <tr>\n      <th>18460</th>\n      <td>Lvov</td>\n      <td>UKR</td>\n      <td>Ukraine</td>\n      <td>50.63N</td>\n      <td>24.08E</td>\n      <td>8</td>\n    </tr>\n    <tr>\n      <th>21699</th>\n      <td>Marseille</td>\n      <td>FRA</td>\n      <td>France</td>\n      <td>42.59N</td>\n      <td>6.55E</td>\n      <td>9</td>\n    </tr>\n    <tr>\n      <th>24938</th>\n      <td>Odesa</td>\n      <td>UKR</td>\n      <td>Ukraine</td>\n      <td>45.81N</td>\n      <td>31.15E</td>\n      <td>10</td>\n    </tr>\n    <tr>\n      <th>28177</th>\n      <td>Paris</td>\n      <td>FRA</td>\n      <td>France</td>\n      <td>49.03N</td>\n      <td>2.45E</td>\n      <td>11</td>\n    </tr>\n    <tr>\n      <th>31416</th>\n      <td>Stockholm</td>\n      <td>SWE</td>\n      <td>Sweden</td>\n      <td>58.66N</td>\n      <td>18.46E</td>\n      <td>12</td>\n    </tr>\n    <tr>\n      <th>34655</th>\n      <td>Tokyo</td>\n      <td>JAP</td>\n      <td>Japan</td>\n      <td>36.17N</td>\n      <td>139.23E</td>\n      <td>13</td>\n    </tr>\n    <tr>\n      <th>36680</th>\n      <td>Tottori</td>\n      <td>JAP</td>\n      <td>Japan</td>\n      <td>34.56N</td>\n      <td>134.27E</td>\n      <td>14</td>\n    </tr>\n    <tr>\n      <th>38753</th>\n      <td>Uppsala</td>\n      <td>SWE</td>\n      <td>Sweden</td>\n      <td>60.27N</td>\n      <td>16.22E</td>\n      <td>15</td>\n    </tr>\n    <tr>\n      <th>41992</th>\n      <td>Warsaw</td>\n      <td>POL</td>\n      <td>Poland</td>\n      <td>52.24N</td>\n      <td>21.02E</td>\n      <td>16</td>\n    </tr>\n    <tr>\n      <th>45231</th>\n      <td>Wroclaw</td>\n      <td>POL</td>\n      <td>Poland</td>\n      <td>50.63N</td>\n      <td>16.48E</td>\n      <td>17</td>\n    </tr>\n  </tbody>\n</table>\n</div>"
     },
     "metadata": {},
     "execution_count": 69
    }
   ]
  },
  {
   "cell_type": "code",
   "execution_count": 70,
   "metadata": {},
   "outputs": [
    {
     "output_type": "execute_result",
     "data": {
      "text/plain": [
       "               City country_id       Country Latitude Longitude  citycat\n",
       "0          Auckland        NEW   New Zealand   36.17S   175.03E        0\n",
       "1929       Brasília        BRA        Brazil   15.27S    47.50W        1\n",
       "4110         Canoas        BRA        Brazil   29.74S    51.69W        2\n",
       "6291      Cape Town        SOU  South Africa   32.95S    18.19E        3\n",
       "8172       Hamilton        NEW   New Zealand   37.78S   174.92E        4\n",
       "10101  Johannesburg        SOU  South Africa   26.52S    28.66E        5\n",
       "11982       Kherson        UKR       Ukraine   47.42N    31.97E        6\n",
       "15221          Kiev        UKR       Ukraine   50.63N    31.69E        7\n",
       "18460          Lvov        UKR       Ukraine   50.63N    24.08E        8\n",
       "21699     Marseille        FRA        France   42.59N     6.55E        9\n",
       "24938         Odesa        UKR       Ukraine   45.81N    31.15E       10\n",
       "28177         Paris        FRA        France   49.03N     2.45E       11\n",
       "31416     Stockholm        SWE        Sweden   58.66N    18.46E       12\n",
       "34655         Tokyo        JAP         Japan   36.17N   139.23E       13\n",
       "36680       Tottori        JAP         Japan   34.56N   134.27E       14\n",
       "38753       Uppsala        SWE        Sweden   60.27N    16.22E       15\n",
       "41992        Warsaw        POL        Poland   52.24N    21.02E       16\n",
       "45231       Wroclaw        POL        Poland   50.63N    16.48E       17"
      ],
      "text/html": "<div>\n<style scoped>\n    .dataframe tbody tr th:only-of-type {\n        vertical-align: middle;\n    }\n\n    .dataframe tbody tr th {\n        vertical-align: top;\n    }\n\n    .dataframe thead th {\n        text-align: right;\n    }\n</style>\n<table border=\"1\" class=\"dataframe\">\n  <thead>\n    <tr style=\"text-align: right;\">\n      <th></th>\n      <th>City</th>\n      <th>country_id</th>\n      <th>Country</th>\n      <th>Latitude</th>\n      <th>Longitude</th>\n      <th>citycat</th>\n    </tr>\n  </thead>\n  <tbody>\n    <tr>\n      <th>0</th>\n      <td>Auckland</td>\n      <td>NEW</td>\n      <td>New Zealand</td>\n      <td>36.17S</td>\n      <td>175.03E</td>\n      <td>0</td>\n    </tr>\n    <tr>\n      <th>1929</th>\n      <td>Brasília</td>\n      <td>BRA</td>\n      <td>Brazil</td>\n      <td>15.27S</td>\n      <td>47.50W</td>\n      <td>1</td>\n    </tr>\n    <tr>\n      <th>4110</th>\n      <td>Canoas</td>\n      <td>BRA</td>\n      <td>Brazil</td>\n      <td>29.74S</td>\n      <td>51.69W</td>\n      <td>2</td>\n    </tr>\n    <tr>\n      <th>6291</th>\n      <td>Cape Town</td>\n      <td>SOU</td>\n      <td>South Africa</td>\n      <td>32.95S</td>\n      <td>18.19E</td>\n      <td>3</td>\n    </tr>\n    <tr>\n      <th>8172</th>\n      <td>Hamilton</td>\n      <td>NEW</td>\n      <td>New Zealand</td>\n      <td>37.78S</td>\n      <td>174.92E</td>\n      <td>4</td>\n    </tr>\n    <tr>\n      <th>10101</th>\n      <td>Johannesburg</td>\n      <td>SOU</td>\n      <td>South Africa</td>\n      <td>26.52S</td>\n      <td>28.66E</td>\n      <td>5</td>\n    </tr>\n    <tr>\n      <th>11982</th>\n      <td>Kherson</td>\n      <td>UKR</td>\n      <td>Ukraine</td>\n      <td>47.42N</td>\n      <td>31.97E</td>\n      <td>6</td>\n    </tr>\n    <tr>\n      <th>15221</th>\n      <td>Kiev</td>\n      <td>UKR</td>\n      <td>Ukraine</td>\n      <td>50.63N</td>\n      <td>31.69E</td>\n      <td>7</td>\n    </tr>\n    <tr>\n      <th>18460</th>\n      <td>Lvov</td>\n      <td>UKR</td>\n      <td>Ukraine</td>\n      <td>50.63N</td>\n      <td>24.08E</td>\n      <td>8</td>\n    </tr>\n    <tr>\n      <th>21699</th>\n      <td>Marseille</td>\n      <td>FRA</td>\n      <td>France</td>\n      <td>42.59N</td>\n      <td>6.55E</td>\n      <td>9</td>\n    </tr>\n    <tr>\n      <th>24938</th>\n      <td>Odesa</td>\n      <td>UKR</td>\n      <td>Ukraine</td>\n      <td>45.81N</td>\n      <td>31.15E</td>\n      <td>10</td>\n    </tr>\n    <tr>\n      <th>28177</th>\n      <td>Paris</td>\n      <td>FRA</td>\n      <td>France</td>\n      <td>49.03N</td>\n      <td>2.45E</td>\n      <td>11</td>\n    </tr>\n    <tr>\n      <th>31416</th>\n      <td>Stockholm</td>\n      <td>SWE</td>\n      <td>Sweden</td>\n      <td>58.66N</td>\n      <td>18.46E</td>\n      <td>12</td>\n    </tr>\n    <tr>\n      <th>34655</th>\n      <td>Tokyo</td>\n      <td>JAP</td>\n      <td>Japan</td>\n      <td>36.17N</td>\n      <td>139.23E</td>\n      <td>13</td>\n    </tr>\n    <tr>\n      <th>36680</th>\n      <td>Tottori</td>\n      <td>JAP</td>\n      <td>Japan</td>\n      <td>34.56N</td>\n      <td>134.27E</td>\n      <td>14</td>\n    </tr>\n    <tr>\n      <th>38753</th>\n      <td>Uppsala</td>\n      <td>SWE</td>\n      <td>Sweden</td>\n      <td>60.27N</td>\n      <td>16.22E</td>\n      <td>15</td>\n    </tr>\n    <tr>\n      <th>41992</th>\n      <td>Warsaw</td>\n      <td>POL</td>\n      <td>Poland</td>\n      <td>52.24N</td>\n      <td>21.02E</td>\n      <td>16</td>\n    </tr>\n    <tr>\n      <th>45231</th>\n      <td>Wroclaw</td>\n      <td>POL</td>\n      <td>Poland</td>\n      <td>50.63N</td>\n      <td>16.48E</td>\n      <td>17</td>\n    </tr>\n  </tbody>\n</table>\n</div>"
     },
     "metadata": {},
     "execution_count": 70
    }
   ],
   "source": [
    "df['citycat']=labelencoder.fit_transform(df['City'].astype(str))\n",
    "df"
   ]
  },
  {
   "cell_type": "code",
   "execution_count": 71,
   "metadata": {},
   "outputs": [],
   "source": [
    "from sklearn.preprocessing import OneHotEncoder"
   ]
  },
  {
   "cell_type": "code",
   "execution_count": 72,
   "metadata": {},
   "outputs": [],
   "source": [
    "onehot = OneHotEncoder()"
   ]
  },
  {
   "cell_type": "code",
   "execution_count": 73,
   "metadata": {},
   "outputs": [],
   "source": [
    "df1 = pd.read_csv(\"data/temfile.csv\")"
   ]
  },
  {
   "cell_type": "code",
   "execution_count": 75,
   "metadata": {},
   "outputs": [
    {
     "output_type": "stream",
     "name": "stdout",
     "text": [
      "  (0, 0)\t1.0\n  (1, 0)\t1.0\n  (2, 0)\t1.0\n  (3, 0)\t1.0\n  (4, 0)\t1.0\n  (5, 0)\t1.0\n  (6, 0)\t1.0\n  (7, 0)\t1.0\n  (8, 0)\t1.0\n  (9, 0)\t1.0\n  (10, 0)\t1.0\n  (11, 0)\t1.0\n  (12, 0)\t1.0\n  (13, 0)\t1.0\n  (14, 0)\t1.0\n  (15, 0)\t1.0\n  (16, 0)\t1.0\n  (17, 0)\t1.0\n  (18, 0)\t1.0\n  (19, 0)\t1.0\n  (20, 0)\t1.0\n  (21, 0)\t1.0\n  (22, 0)\t1.0\n  (23, 0)\t1.0\n  (24, 0)\t1.0\n  :\t:\n  (47961, 17)\t1.0\n  (47962, 17)\t1.0\n  (47963, 17)\t1.0\n  (47964, 17)\t1.0\n  (47965, 17)\t1.0\n  (47966, 17)\t1.0\n  (47967, 17)\t1.0\n  (47968, 17)\t1.0\n  (47969, 17)\t1.0\n  (47970, 17)\t1.0\n  (47971, 17)\t1.0\n  (47972, 17)\t1.0\n  (47973, 17)\t1.0\n  (47974, 17)\t1.0\n  (47975, 17)\t1.0\n  (47976, 17)\t1.0\n  (47977, 17)\t1.0\n  (47978, 17)\t1.0\n  (47979, 17)\t1.0\n  (47980, 17)\t1.0\n  (47981, 17)\t1.0\n  (47982, 17)\t1.0\n  (47983, 17)\t1.0\n  (47984, 17)\t1.0\n  (47985, 17)\t1.0\n"
     ]
    }
   ],
   "source": [
    "df1 = df1.dropna()\n",
    "res = onehot.fit_transform(df1[['City']])\n",
    "print(res)"
   ]
  },
  {
   "cell_type": "code",
   "execution_count": 76,
   "metadata": {},
   "outputs": [
    {
     "output_type": "execute_result",
     "data": {
      "text/plain": [
       "           City country_id      Country Latitude Longitude  (Auckland,)  \\\n",
       "0      Auckland        NEW  New Zealand   36.17S   175.03E          1.0   \n",
       "1      Auckland        NEW  New Zealand   36.17S   175.03E          1.0   \n",
       "2      Auckland        NEW  New Zealand   36.17S   175.03E          1.0   \n",
       "3      Auckland        NEW  New Zealand   36.17S   175.03E          1.0   \n",
       "4      Auckland        NEW  New Zealand   36.17S   175.03E          1.0   \n",
       "...         ...        ...          ...      ...       ...          ...   \n",
       "48465   Wroclaw        POL       Poland   50.63N    16.48E          NaN   \n",
       "48466   Wroclaw        POL       Poland   50.63N    16.48E          NaN   \n",
       "48467   Wroclaw        POL       Poland   50.63N    16.48E          NaN   \n",
       "48468   Wroclaw        POL       Poland   50.63N    16.48E          NaN   \n",
       "48469   Wroclaw        POL       Poland   50.63N    16.48E          NaN   \n",
       "\n",
       "       (Brasília,)  (Canoas,)  (Cape Town,)  (Hamilton,)  ...  (Lvov,)  \\\n",
       "0              0.0        0.0           0.0          0.0  ...      0.0   \n",
       "1              0.0        0.0           0.0          0.0  ...      0.0   \n",
       "2              0.0        0.0           0.0          0.0  ...      0.0   \n",
       "3              0.0        0.0           0.0          0.0  ...      0.0   \n",
       "4              0.0        0.0           0.0          0.0  ...      0.0   \n",
       "...            ...        ...           ...          ...  ...      ...   \n",
       "48465          NaN        NaN           NaN          NaN  ...      NaN   \n",
       "48466          NaN        NaN           NaN          NaN  ...      NaN   \n",
       "48467          NaN        NaN           NaN          NaN  ...      NaN   \n",
       "48468          NaN        NaN           NaN          NaN  ...      NaN   \n",
       "48469          NaN        NaN           NaN          NaN  ...      NaN   \n",
       "\n",
       "       (Marseille,)  (Odesa,)  (Paris,)  (Stockholm,)  (Tokyo,)  (Tottori,)  \\\n",
       "0               0.0       0.0       0.0           0.0       0.0         0.0   \n",
       "1               0.0       0.0       0.0           0.0       0.0         0.0   \n",
       "2               0.0       0.0       0.0           0.0       0.0         0.0   \n",
       "3               0.0       0.0       0.0           0.0       0.0         0.0   \n",
       "4               0.0       0.0       0.0           0.0       0.0         0.0   \n",
       "...             ...       ...       ...           ...       ...         ...   \n",
       "48465           NaN       NaN       NaN           NaN       NaN         NaN   \n",
       "48466           NaN       NaN       NaN           NaN       NaN         NaN   \n",
       "48467           NaN       NaN       NaN           NaN       NaN         NaN   \n",
       "48468           NaN       NaN       NaN           NaN       NaN         NaN   \n",
       "48469           NaN       NaN       NaN           NaN       NaN         NaN   \n",
       "\n",
       "       (Uppsala,)  (Warsaw,)  (Wroclaw,)  \n",
       "0             0.0        0.0         0.0  \n",
       "1             0.0        0.0         0.0  \n",
       "2             0.0        0.0         0.0  \n",
       "3             0.0        0.0         0.0  \n",
       "4             0.0        0.0         0.0  \n",
       "...           ...        ...         ...  \n",
       "48465         NaN        NaN         NaN  \n",
       "48466         NaN        NaN         NaN  \n",
       "48467         NaN        NaN         NaN  \n",
       "48468         NaN        NaN         NaN  \n",
       "48469         NaN        NaN         NaN  \n",
       "\n",
       "[47986 rows x 23 columns]"
      ],
      "text/html": "<div>\n<style scoped>\n    .dataframe tbody tr th:only-of-type {\n        vertical-align: middle;\n    }\n\n    .dataframe tbody tr th {\n        vertical-align: top;\n    }\n\n    .dataframe thead th {\n        text-align: right;\n    }\n</style>\n<table border=\"1\" class=\"dataframe\">\n  <thead>\n    <tr style=\"text-align: right;\">\n      <th></th>\n      <th>City</th>\n      <th>country_id</th>\n      <th>Country</th>\n      <th>Latitude</th>\n      <th>Longitude</th>\n      <th>(Auckland,)</th>\n      <th>(Brasília,)</th>\n      <th>(Canoas,)</th>\n      <th>(Cape Town,)</th>\n      <th>(Hamilton,)</th>\n      <th>...</th>\n      <th>(Lvov,)</th>\n      <th>(Marseille,)</th>\n      <th>(Odesa,)</th>\n      <th>(Paris,)</th>\n      <th>(Stockholm,)</th>\n      <th>(Tokyo,)</th>\n      <th>(Tottori,)</th>\n      <th>(Uppsala,)</th>\n      <th>(Warsaw,)</th>\n      <th>(Wroclaw,)</th>\n    </tr>\n  </thead>\n  <tbody>\n    <tr>\n      <th>0</th>\n      <td>Auckland</td>\n      <td>NEW</td>\n      <td>New Zealand</td>\n      <td>36.17S</td>\n      <td>175.03E</td>\n      <td>1.0</td>\n      <td>0.0</td>\n      <td>0.0</td>\n      <td>0.0</td>\n      <td>0.0</td>\n      <td>...</td>\n      <td>0.0</td>\n      <td>0.0</td>\n      <td>0.0</td>\n      <td>0.0</td>\n      <td>0.0</td>\n      <td>0.0</td>\n      <td>0.0</td>\n      <td>0.0</td>\n      <td>0.0</td>\n      <td>0.0</td>\n    </tr>\n    <tr>\n      <th>1</th>\n      <td>Auckland</td>\n      <td>NEW</td>\n      <td>New Zealand</td>\n      <td>36.17S</td>\n      <td>175.03E</td>\n      <td>1.0</td>\n      <td>0.0</td>\n      <td>0.0</td>\n      <td>0.0</td>\n      <td>0.0</td>\n      <td>...</td>\n      <td>0.0</td>\n      <td>0.0</td>\n      <td>0.0</td>\n      <td>0.0</td>\n      <td>0.0</td>\n      <td>0.0</td>\n      <td>0.0</td>\n      <td>0.0</td>\n      <td>0.0</td>\n      <td>0.0</td>\n    </tr>\n    <tr>\n      <th>2</th>\n      <td>Auckland</td>\n      <td>NEW</td>\n      <td>New Zealand</td>\n      <td>36.17S</td>\n      <td>175.03E</td>\n      <td>1.0</td>\n      <td>0.0</td>\n      <td>0.0</td>\n      <td>0.0</td>\n      <td>0.0</td>\n      <td>...</td>\n      <td>0.0</td>\n      <td>0.0</td>\n      <td>0.0</td>\n      <td>0.0</td>\n      <td>0.0</td>\n      <td>0.0</td>\n      <td>0.0</td>\n      <td>0.0</td>\n      <td>0.0</td>\n      <td>0.0</td>\n    </tr>\n    <tr>\n      <th>3</th>\n      <td>Auckland</td>\n      <td>NEW</td>\n      <td>New Zealand</td>\n      <td>36.17S</td>\n      <td>175.03E</td>\n      <td>1.0</td>\n      <td>0.0</td>\n      <td>0.0</td>\n      <td>0.0</td>\n      <td>0.0</td>\n      <td>...</td>\n      <td>0.0</td>\n      <td>0.0</td>\n      <td>0.0</td>\n      <td>0.0</td>\n      <td>0.0</td>\n      <td>0.0</td>\n      <td>0.0</td>\n      <td>0.0</td>\n      <td>0.0</td>\n      <td>0.0</td>\n    </tr>\n    <tr>\n      <th>4</th>\n      <td>Auckland</td>\n      <td>NEW</td>\n      <td>New Zealand</td>\n      <td>36.17S</td>\n      <td>175.03E</td>\n      <td>1.0</td>\n      <td>0.0</td>\n      <td>0.0</td>\n      <td>0.0</td>\n      <td>0.0</td>\n      <td>...</td>\n      <td>0.0</td>\n      <td>0.0</td>\n      <td>0.0</td>\n      <td>0.0</td>\n      <td>0.0</td>\n      <td>0.0</td>\n      <td>0.0</td>\n      <td>0.0</td>\n      <td>0.0</td>\n      <td>0.0</td>\n    </tr>\n    <tr>\n      <th>...</th>\n      <td>...</td>\n      <td>...</td>\n      <td>...</td>\n      <td>...</td>\n      <td>...</td>\n      <td>...</td>\n      <td>...</td>\n      <td>...</td>\n      <td>...</td>\n      <td>...</td>\n      <td>...</td>\n      <td>...</td>\n      <td>...</td>\n      <td>...</td>\n      <td>...</td>\n      <td>...</td>\n      <td>...</td>\n      <td>...</td>\n      <td>...</td>\n      <td>...</td>\n      <td>...</td>\n    </tr>\n    <tr>\n      <th>48465</th>\n      <td>Wroclaw</td>\n      <td>POL</td>\n      <td>Poland</td>\n      <td>50.63N</td>\n      <td>16.48E</td>\n      <td>NaN</td>\n      <td>NaN</td>\n      <td>NaN</td>\n      <td>NaN</td>\n      <td>NaN</td>\n      <td>...</td>\n      <td>NaN</td>\n      <td>NaN</td>\n      <td>NaN</td>\n      <td>NaN</td>\n      <td>NaN</td>\n      <td>NaN</td>\n      <td>NaN</td>\n      <td>NaN</td>\n      <td>NaN</td>\n      <td>NaN</td>\n    </tr>\n    <tr>\n      <th>48466</th>\n      <td>Wroclaw</td>\n      <td>POL</td>\n      <td>Poland</td>\n      <td>50.63N</td>\n      <td>16.48E</td>\n      <td>NaN</td>\n      <td>NaN</td>\n      <td>NaN</td>\n      <td>NaN</td>\n      <td>NaN</td>\n      <td>...</td>\n      <td>NaN</td>\n      <td>NaN</td>\n      <td>NaN</td>\n      <td>NaN</td>\n      <td>NaN</td>\n      <td>NaN</td>\n      <td>NaN</td>\n      <td>NaN</td>\n      <td>NaN</td>\n      <td>NaN</td>\n    </tr>\n    <tr>\n      <th>48467</th>\n      <td>Wroclaw</td>\n      <td>POL</td>\n      <td>Poland</td>\n      <td>50.63N</td>\n      <td>16.48E</td>\n      <td>NaN</td>\n      <td>NaN</td>\n      <td>NaN</td>\n      <td>NaN</td>\n      <td>NaN</td>\n      <td>...</td>\n      <td>NaN</td>\n      <td>NaN</td>\n      <td>NaN</td>\n      <td>NaN</td>\n      <td>NaN</td>\n      <td>NaN</td>\n      <td>NaN</td>\n      <td>NaN</td>\n      <td>NaN</td>\n      <td>NaN</td>\n    </tr>\n    <tr>\n      <th>48468</th>\n      <td>Wroclaw</td>\n      <td>POL</td>\n      <td>Poland</td>\n      <td>50.63N</td>\n      <td>16.48E</td>\n      <td>NaN</td>\n      <td>NaN</td>\n      <td>NaN</td>\n      <td>NaN</td>\n      <td>NaN</td>\n      <td>...</td>\n      <td>NaN</td>\n      <td>NaN</td>\n      <td>NaN</td>\n      <td>NaN</td>\n      <td>NaN</td>\n      <td>NaN</td>\n      <td>NaN</td>\n      <td>NaN</td>\n      <td>NaN</td>\n      <td>NaN</td>\n    </tr>\n    <tr>\n      <th>48469</th>\n      <td>Wroclaw</td>\n      <td>POL</td>\n      <td>Poland</td>\n      <td>50.63N</td>\n      <td>16.48E</td>\n      <td>NaN</td>\n      <td>NaN</td>\n      <td>NaN</td>\n      <td>NaN</td>\n      <td>NaN</td>\n      <td>...</td>\n      <td>NaN</td>\n      <td>NaN</td>\n      <td>NaN</td>\n      <td>NaN</td>\n      <td>NaN</td>\n      <td>NaN</td>\n      <td>NaN</td>\n      <td>NaN</td>\n      <td>NaN</td>\n      <td>NaN</td>\n    </tr>\n  </tbody>\n</table>\n<p>47986 rows × 23 columns</p>\n</div>"
     },
     "metadata": {},
     "execution_count": 76
    }
   ],
   "source": [
    "nf = df1.join(pd.DataFrame(res.toarray(),columns=onehot.categories_))\n",
    "nf"
   ]
  },
  {
   "cell_type": "code",
   "execution_count": 77,
   "metadata": {},
   "outputs": [
    {
     "output_type": "execute_result",
     "data": {
      "text/plain": [
       "           City country_id      Country Latitude Longitude  (Auckland,)  \\\n",
       "0      Auckland        NEW  New Zealand   36.17S   175.03E          1.0   \n",
       "1      Auckland        NEW  New Zealand   36.17S   175.03E          1.0   \n",
       "2      Auckland        NEW  New Zealand   36.17S   175.03E          1.0   \n",
       "3      Auckland        NEW  New Zealand   36.17S   175.03E          1.0   \n",
       "4      Auckland        NEW  New Zealand   36.17S   175.03E          1.0   \n",
       "...         ...        ...          ...      ...       ...          ...   \n",
       "47981   Wroclaw        POL       Poland   50.63N    16.48E          0.0   \n",
       "47982   Wroclaw        POL       Poland   50.63N    16.48E          0.0   \n",
       "47983   Wroclaw        POL       Poland   50.63N    16.48E          0.0   \n",
       "47984   Wroclaw        POL       Poland   50.63N    16.48E          0.0   \n",
       "47985   Wroclaw        POL       Poland   50.63N    16.48E          0.0   \n",
       "\n",
       "       (Brasília,)  (Canoas,)  (Cape Town,)  (Hamilton,)  ...  (Lvov,)  \\\n",
       "0              0.0        0.0           0.0          0.0  ...      0.0   \n",
       "1              0.0        0.0           0.0          0.0  ...      0.0   \n",
       "2              0.0        0.0           0.0          0.0  ...      0.0   \n",
       "3              0.0        0.0           0.0          0.0  ...      0.0   \n",
       "4              0.0        0.0           0.0          0.0  ...      0.0   \n",
       "...            ...        ...           ...          ...  ...      ...   \n",
       "47981          0.0        0.0           0.0          0.0  ...      0.0   \n",
       "47982          0.0        0.0           0.0          0.0  ...      0.0   \n",
       "47983          0.0        0.0           0.0          0.0  ...      0.0   \n",
       "47984          0.0        0.0           0.0          0.0  ...      0.0   \n",
       "47985          0.0        0.0           0.0          0.0  ...      0.0   \n",
       "\n",
       "       (Marseille,)  (Odesa,)  (Paris,)  (Stockholm,)  (Tokyo,)  (Tottori,)  \\\n",
       "0               0.0       0.0       0.0           0.0       0.0         0.0   \n",
       "1               0.0       0.0       0.0           0.0       0.0         0.0   \n",
       "2               0.0       0.0       0.0           0.0       0.0         0.0   \n",
       "3               0.0       0.0       0.0           0.0       0.0         0.0   \n",
       "4               0.0       0.0       0.0           0.0       0.0         0.0   \n",
       "...             ...       ...       ...           ...       ...         ...   \n",
       "47981           0.0       0.0       0.0           0.0       0.0         0.0   \n",
       "47982           0.0       0.0       0.0           0.0       0.0         0.0   \n",
       "47983           0.0       0.0       0.0           0.0       0.0         0.0   \n",
       "47984           0.0       0.0       0.0           0.0       0.0         0.0   \n",
       "47985           0.0       0.0       0.0           0.0       0.0         0.0   \n",
       "\n",
       "       (Uppsala,)  (Warsaw,)  (Wroclaw,)  \n",
       "0             0.0        0.0         0.0  \n",
       "1             0.0        0.0         0.0  \n",
       "2             0.0        0.0         0.0  \n",
       "3             0.0        0.0         0.0  \n",
       "4             0.0        0.0         0.0  \n",
       "...           ...        ...         ...  \n",
       "47981         0.0        0.0         1.0  \n",
       "47982         0.0        0.0         1.0  \n",
       "47983         0.0        0.0         1.0  \n",
       "47984         0.0        0.0         1.0  \n",
       "47985         0.0        0.0         1.0  \n",
       "\n",
       "[47507 rows x 23 columns]"
      ],
      "text/html": "<div>\n<style scoped>\n    .dataframe tbody tr th:only-of-type {\n        vertical-align: middle;\n    }\n\n    .dataframe tbody tr th {\n        vertical-align: top;\n    }\n\n    .dataframe thead th {\n        text-align: right;\n    }\n</style>\n<table border=\"1\" class=\"dataframe\">\n  <thead>\n    <tr style=\"text-align: right;\">\n      <th></th>\n      <th>City</th>\n      <th>country_id</th>\n      <th>Country</th>\n      <th>Latitude</th>\n      <th>Longitude</th>\n      <th>(Auckland,)</th>\n      <th>(Brasília,)</th>\n      <th>(Canoas,)</th>\n      <th>(Cape Town,)</th>\n      <th>(Hamilton,)</th>\n      <th>...</th>\n      <th>(Lvov,)</th>\n      <th>(Marseille,)</th>\n      <th>(Odesa,)</th>\n      <th>(Paris,)</th>\n      <th>(Stockholm,)</th>\n      <th>(Tokyo,)</th>\n      <th>(Tottori,)</th>\n      <th>(Uppsala,)</th>\n      <th>(Warsaw,)</th>\n      <th>(Wroclaw,)</th>\n    </tr>\n  </thead>\n  <tbody>\n    <tr>\n      <th>0</th>\n      <td>Auckland</td>\n      <td>NEW</td>\n      <td>New Zealand</td>\n      <td>36.17S</td>\n      <td>175.03E</td>\n      <td>1.0</td>\n      <td>0.0</td>\n      <td>0.0</td>\n      <td>0.0</td>\n      <td>0.0</td>\n      <td>...</td>\n      <td>0.0</td>\n      <td>0.0</td>\n      <td>0.0</td>\n      <td>0.0</td>\n      <td>0.0</td>\n      <td>0.0</td>\n      <td>0.0</td>\n      <td>0.0</td>\n      <td>0.0</td>\n      <td>0.0</td>\n    </tr>\n    <tr>\n      <th>1</th>\n      <td>Auckland</td>\n      <td>NEW</td>\n      <td>New Zealand</td>\n      <td>36.17S</td>\n      <td>175.03E</td>\n      <td>1.0</td>\n      <td>0.0</td>\n      <td>0.0</td>\n      <td>0.0</td>\n      <td>0.0</td>\n      <td>...</td>\n      <td>0.0</td>\n      <td>0.0</td>\n      <td>0.0</td>\n      <td>0.0</td>\n      <td>0.0</td>\n      <td>0.0</td>\n      <td>0.0</td>\n      <td>0.0</td>\n      <td>0.0</td>\n      <td>0.0</td>\n    </tr>\n    <tr>\n      <th>2</th>\n      <td>Auckland</td>\n      <td>NEW</td>\n      <td>New Zealand</td>\n      <td>36.17S</td>\n      <td>175.03E</td>\n      <td>1.0</td>\n      <td>0.0</td>\n      <td>0.0</td>\n      <td>0.0</td>\n      <td>0.0</td>\n      <td>...</td>\n      <td>0.0</td>\n      <td>0.0</td>\n      <td>0.0</td>\n      <td>0.0</td>\n      <td>0.0</td>\n      <td>0.0</td>\n      <td>0.0</td>\n      <td>0.0</td>\n      <td>0.0</td>\n      <td>0.0</td>\n    </tr>\n    <tr>\n      <th>3</th>\n      <td>Auckland</td>\n      <td>NEW</td>\n      <td>New Zealand</td>\n      <td>36.17S</td>\n      <td>175.03E</td>\n      <td>1.0</td>\n      <td>0.0</td>\n      <td>0.0</td>\n      <td>0.0</td>\n      <td>0.0</td>\n      <td>...</td>\n      <td>0.0</td>\n      <td>0.0</td>\n      <td>0.0</td>\n      <td>0.0</td>\n      <td>0.0</td>\n      <td>0.0</td>\n      <td>0.0</td>\n      <td>0.0</td>\n      <td>0.0</td>\n      <td>0.0</td>\n    </tr>\n    <tr>\n      <th>4</th>\n      <td>Auckland</td>\n      <td>NEW</td>\n      <td>New Zealand</td>\n      <td>36.17S</td>\n      <td>175.03E</td>\n      <td>1.0</td>\n      <td>0.0</td>\n      <td>0.0</td>\n      <td>0.0</td>\n      <td>0.0</td>\n      <td>...</td>\n      <td>0.0</td>\n      <td>0.0</td>\n      <td>0.0</td>\n      <td>0.0</td>\n      <td>0.0</td>\n      <td>0.0</td>\n      <td>0.0</td>\n      <td>0.0</td>\n      <td>0.0</td>\n      <td>0.0</td>\n    </tr>\n    <tr>\n      <th>...</th>\n      <td>...</td>\n      <td>...</td>\n      <td>...</td>\n      <td>...</td>\n      <td>...</td>\n      <td>...</td>\n      <td>...</td>\n      <td>...</td>\n      <td>...</td>\n      <td>...</td>\n      <td>...</td>\n      <td>...</td>\n      <td>...</td>\n      <td>...</td>\n      <td>...</td>\n      <td>...</td>\n      <td>...</td>\n      <td>...</td>\n      <td>...</td>\n      <td>...</td>\n      <td>...</td>\n    </tr>\n    <tr>\n      <th>47981</th>\n      <td>Wroclaw</td>\n      <td>POL</td>\n      <td>Poland</td>\n      <td>50.63N</td>\n      <td>16.48E</td>\n      <td>0.0</td>\n      <td>0.0</td>\n      <td>0.0</td>\n      <td>0.0</td>\n      <td>0.0</td>\n      <td>...</td>\n      <td>0.0</td>\n      <td>0.0</td>\n      <td>0.0</td>\n      <td>0.0</td>\n      <td>0.0</td>\n      <td>0.0</td>\n      <td>0.0</td>\n      <td>0.0</td>\n      <td>0.0</td>\n      <td>1.0</td>\n    </tr>\n    <tr>\n      <th>47982</th>\n      <td>Wroclaw</td>\n      <td>POL</td>\n      <td>Poland</td>\n      <td>50.63N</td>\n      <td>16.48E</td>\n      <td>0.0</td>\n      <td>0.0</td>\n      <td>0.0</td>\n      <td>0.0</td>\n      <td>0.0</td>\n      <td>...</td>\n      <td>0.0</td>\n      <td>0.0</td>\n      <td>0.0</td>\n      <td>0.0</td>\n      <td>0.0</td>\n      <td>0.0</td>\n      <td>0.0</td>\n      <td>0.0</td>\n      <td>0.0</td>\n      <td>1.0</td>\n    </tr>\n    <tr>\n      <th>47983</th>\n      <td>Wroclaw</td>\n      <td>POL</td>\n      <td>Poland</td>\n      <td>50.63N</td>\n      <td>16.48E</td>\n      <td>0.0</td>\n      <td>0.0</td>\n      <td>0.0</td>\n      <td>0.0</td>\n      <td>0.0</td>\n      <td>...</td>\n      <td>0.0</td>\n      <td>0.0</td>\n      <td>0.0</td>\n      <td>0.0</td>\n      <td>0.0</td>\n      <td>0.0</td>\n      <td>0.0</td>\n      <td>0.0</td>\n      <td>0.0</td>\n      <td>1.0</td>\n    </tr>\n    <tr>\n      <th>47984</th>\n      <td>Wroclaw</td>\n      <td>POL</td>\n      <td>Poland</td>\n      <td>50.63N</td>\n      <td>16.48E</td>\n      <td>0.0</td>\n      <td>0.0</td>\n      <td>0.0</td>\n      <td>0.0</td>\n      <td>0.0</td>\n      <td>...</td>\n      <td>0.0</td>\n      <td>0.0</td>\n      <td>0.0</td>\n      <td>0.0</td>\n      <td>0.0</td>\n      <td>0.0</td>\n      <td>0.0</td>\n      <td>0.0</td>\n      <td>0.0</td>\n      <td>1.0</td>\n    </tr>\n    <tr>\n      <th>47985</th>\n      <td>Wroclaw</td>\n      <td>POL</td>\n      <td>Poland</td>\n      <td>50.63N</td>\n      <td>16.48E</td>\n      <td>0.0</td>\n      <td>0.0</td>\n      <td>0.0</td>\n      <td>0.0</td>\n      <td>0.0</td>\n      <td>...</td>\n      <td>0.0</td>\n      <td>0.0</td>\n      <td>0.0</td>\n      <td>0.0</td>\n      <td>0.0</td>\n      <td>0.0</td>\n      <td>0.0</td>\n      <td>0.0</td>\n      <td>0.0</td>\n      <td>1.0</td>\n    </tr>\n  </tbody>\n</table>\n<p>47507 rows × 23 columns</p>\n</div>"
     },
     "metadata": {},
     "execution_count": 77
    }
   ],
   "source": [
    "nf = nf.dropna()\n",
    "nf"
   ]
  },
  {
   "cell_type": "code",
   "execution_count": 78,
   "metadata": {},
   "outputs": [
    {
     "output_type": "execute_result",
     "data": {
      "text/plain": [
       "               City country_id       Country Latitude Longitude  (Auckland,)  \\\n",
       "0          Auckland        NEW   New Zealand   36.17S   175.03E          1.0   \n",
       "1912       Auckland        NEW   New Zealand   36.17S   175.03E          0.0   \n",
       "1929       Brasília        BRA        Brazil   15.27S    47.50W          0.0   \n",
       "4068       Brasília        BRA        Brazil   15.27S    47.50W          0.0   \n",
       "4110         Canoas        BRA        Brazil   29.74S    51.69W          0.0   \n",
       "6225         Canoas        BRA        Brazil   29.74S    51.69W          0.0   \n",
       "6291      Cape Town        SOU  South Africa   32.95S    18.19E          0.0   \n",
       "8091      Cape Town        SOU  South Africa   32.95S    18.19E          0.0   \n",
       "8172       Hamilton        NEW   New Zealand   37.78S   174.92E          0.0   \n",
       "10005      Hamilton        NEW   New Zealand   37.78S   174.92E          0.0   \n",
       "10101  Johannesburg        SOU  South Africa   26.52S    28.66E          0.0   \n",
       "11860  Johannesburg        SOU  South Africa   26.52S    28.66E          0.0   \n",
       "11982       Kherson        UKR       Ukraine   47.42N    31.97E          0.0   \n",
       "15069       Kherson        UKR       Ukraine   47.42N    31.97E          0.0   \n",
       "15221          Kiev        UKR       Ukraine   50.63N    31.69E          0.0   \n",
       "18277          Kiev        UKR       Ukraine   50.63N    31.69E          0.0   \n",
       "18460          Lvov        UKR       Ukraine   50.63N    24.08E          0.0   \n",
       "21484          Lvov        UKR       Ukraine   50.63N    24.08E          0.0   \n",
       "21699     Marseille        FRA        France   42.59N     6.55E          0.0   \n",
       "24686     Marseille        FRA        France   42.59N     6.55E          0.0   \n",
       "24938         Odesa        UKR       Ukraine   45.81N    31.15E          0.0   \n",
       "27900         Odesa        UKR       Ukraine   45.81N    31.15E          0.0   \n",
       "28177         Paris        FRA        France   49.03N     2.45E          0.0   \n",
       "31111         Paris        FRA        France   49.03N     2.45E          0.0   \n",
       "31416     Stockholm        SWE        Sweden   58.66N    18.46E          0.0   \n",
       "34317     Stockholm        SWE        Sweden   58.66N    18.46E          0.0   \n",
       "34655         Tokyo        JAP         Japan   36.17N   139.23E          0.0   \n",
       "36318         Tokyo        JAP         Japan   36.17N   139.23E          0.0   \n",
       "36680       Tottori        JAP         Japan   34.56N   134.27E          0.0   \n",
       "38374       Tottori        JAP         Japan   34.56N   134.27E          0.0   \n",
       "38753       Uppsala        SWE        Sweden   60.27N    16.22E          0.0   \n",
       "41575       Uppsala        SWE        Sweden   60.27N    16.22E          0.0   \n",
       "41992        Warsaw        POL        Poland   52.24N    21.02E          0.0   \n",
       "44778        Warsaw        POL        Poland   52.24N    21.02E          0.0   \n",
       "45231       Wroclaw        POL        Poland   50.63N    16.48E          0.0   \n",
       "\n",
       "       (Brasília,)  (Canoas,)  (Cape Town,)  (Hamilton,)  ...  (Lvov,)  \\\n",
       "0              0.0        0.0           0.0          0.0  ...      0.0   \n",
       "1912           1.0        0.0           0.0          0.0  ...      0.0   \n",
       "1929           1.0        0.0           0.0          0.0  ...      0.0   \n",
       "4068           0.0        1.0           0.0          0.0  ...      0.0   \n",
       "4110           0.0        1.0           0.0          0.0  ...      0.0   \n",
       "6225           0.0        0.0           1.0          0.0  ...      0.0   \n",
       "6291           0.0        0.0           1.0          0.0  ...      0.0   \n",
       "8091           0.0        0.0           0.0          1.0  ...      0.0   \n",
       "8172           0.0        0.0           0.0          1.0  ...      0.0   \n",
       "10005          0.0        0.0           0.0          0.0  ...      0.0   \n",
       "10101          0.0        0.0           0.0          0.0  ...      0.0   \n",
       "11860          0.0        0.0           0.0          0.0  ...      0.0   \n",
       "11982          0.0        0.0           0.0          0.0  ...      0.0   \n",
       "15069          0.0        0.0           0.0          0.0  ...      0.0   \n",
       "15221          0.0        0.0           0.0          0.0  ...      0.0   \n",
       "18277          0.0        0.0           0.0          0.0  ...      1.0   \n",
       "18460          0.0        0.0           0.0          0.0  ...      1.0   \n",
       "21484          0.0        0.0           0.0          0.0  ...      0.0   \n",
       "21699          0.0        0.0           0.0          0.0  ...      0.0   \n",
       "24686          0.0        0.0           0.0          0.0  ...      0.0   \n",
       "24938          0.0        0.0           0.0          0.0  ...      0.0   \n",
       "27900          0.0        0.0           0.0          0.0  ...      0.0   \n",
       "28177          0.0        0.0           0.0          0.0  ...      0.0   \n",
       "31111          0.0        0.0           0.0          0.0  ...      0.0   \n",
       "31416          0.0        0.0           0.0          0.0  ...      0.0   \n",
       "34317          0.0        0.0           0.0          0.0  ...      0.0   \n",
       "34655          0.0        0.0           0.0          0.0  ...      0.0   \n",
       "36318          0.0        0.0           0.0          0.0  ...      0.0   \n",
       "36680          0.0        0.0           0.0          0.0  ...      0.0   \n",
       "38374          0.0        0.0           0.0          0.0  ...      0.0   \n",
       "38753          0.0        0.0           0.0          0.0  ...      0.0   \n",
       "41575          0.0        0.0           0.0          0.0  ...      0.0   \n",
       "41992          0.0        0.0           0.0          0.0  ...      0.0   \n",
       "44778          0.0        0.0           0.0          0.0  ...      0.0   \n",
       "45231          0.0        0.0           0.0          0.0  ...      0.0   \n",
       "\n",
       "       (Marseille,)  (Odesa,)  (Paris,)  (Stockholm,)  (Tokyo,)  (Tottori,)  \\\n",
       "0               0.0       0.0       0.0           0.0       0.0         0.0   \n",
       "1912            0.0       0.0       0.0           0.0       0.0         0.0   \n",
       "1929            0.0       0.0       0.0           0.0       0.0         0.0   \n",
       "4068            0.0       0.0       0.0           0.0       0.0         0.0   \n",
       "4110            0.0       0.0       0.0           0.0       0.0         0.0   \n",
       "6225            0.0       0.0       0.0           0.0       0.0         0.0   \n",
       "6291            0.0       0.0       0.0           0.0       0.0         0.0   \n",
       "8091            0.0       0.0       0.0           0.0       0.0         0.0   \n",
       "8172            0.0       0.0       0.0           0.0       0.0         0.0   \n",
       "10005           0.0       0.0       0.0           0.0       0.0         0.0   \n",
       "10101           0.0       0.0       0.0           0.0       0.0         0.0   \n",
       "11860           0.0       0.0       0.0           0.0       0.0         0.0   \n",
       "11982           0.0       0.0       0.0           0.0       0.0         0.0   \n",
       "15069           0.0       0.0       0.0           0.0       0.0         0.0   \n",
       "15221           0.0       0.0       0.0           0.0       0.0         0.0   \n",
       "18277           0.0       0.0       0.0           0.0       0.0         0.0   \n",
       "18460           0.0       0.0       0.0           0.0       0.0         0.0   \n",
       "21484           1.0       0.0       0.0           0.0       0.0         0.0   \n",
       "21699           1.0       0.0       0.0           0.0       0.0         0.0   \n",
       "24686           0.0       1.0       0.0           0.0       0.0         0.0   \n",
       "24938           0.0       1.0       0.0           0.0       0.0         0.0   \n",
       "27900           0.0       0.0       1.0           0.0       0.0         0.0   \n",
       "28177           0.0       0.0       1.0           0.0       0.0         0.0   \n",
       "31111           0.0       0.0       0.0           1.0       0.0         0.0   \n",
       "31416           0.0       0.0       0.0           1.0       0.0         0.0   \n",
       "34317           0.0       0.0       0.0           0.0       1.0         0.0   \n",
       "34655           0.0       0.0       0.0           0.0       1.0         0.0   \n",
       "36318           0.0       0.0       0.0           0.0       0.0         1.0   \n",
       "36680           0.0       0.0       0.0           0.0       0.0         1.0   \n",
       "38374           0.0       0.0       0.0           0.0       0.0         0.0   \n",
       "38753           0.0       0.0       0.0           0.0       0.0         0.0   \n",
       "41575           0.0       0.0       0.0           0.0       0.0         0.0   \n",
       "41992           0.0       0.0       0.0           0.0       0.0         0.0   \n",
       "44778           0.0       0.0       0.0           0.0       0.0         0.0   \n",
       "45231           0.0       0.0       0.0           0.0       0.0         0.0   \n",
       "\n",
       "       (Uppsala,)  (Warsaw,)  (Wroclaw,)  \n",
       "0             0.0        0.0         0.0  \n",
       "1912          0.0        0.0         0.0  \n",
       "1929          0.0        0.0         0.0  \n",
       "4068          0.0        0.0         0.0  \n",
       "4110          0.0        0.0         0.0  \n",
       "6225          0.0        0.0         0.0  \n",
       "6291          0.0        0.0         0.0  \n",
       "8091          0.0        0.0         0.0  \n",
       "8172          0.0        0.0         0.0  \n",
       "10005         0.0        0.0         0.0  \n",
       "10101         0.0        0.0         0.0  \n",
       "11860         0.0        0.0         0.0  \n",
       "11982         0.0        0.0         0.0  \n",
       "15069         0.0        0.0         0.0  \n",
       "15221         0.0        0.0         0.0  \n",
       "18277         0.0        0.0         0.0  \n",
       "18460         0.0        0.0         0.0  \n",
       "21484         0.0        0.0         0.0  \n",
       "21699         0.0        0.0         0.0  \n",
       "24686         0.0        0.0         0.0  \n",
       "24938         0.0        0.0         0.0  \n",
       "27900         0.0        0.0         0.0  \n",
       "28177         0.0        0.0         0.0  \n",
       "31111         0.0        0.0         0.0  \n",
       "31416         0.0        0.0         0.0  \n",
       "34317         0.0        0.0         0.0  \n",
       "34655         0.0        0.0         0.0  \n",
       "36318         0.0        0.0         0.0  \n",
       "36680         0.0        0.0         0.0  \n",
       "38374         1.0        0.0         0.0  \n",
       "38753         1.0        0.0         0.0  \n",
       "41575         0.0        1.0         0.0  \n",
       "41992         0.0        1.0         0.0  \n",
       "44778         0.0        0.0         1.0  \n",
       "45231         0.0        0.0         1.0  \n",
       "\n",
       "[35 rows x 23 columns]"
      ],
      "text/html": "<div>\n<style scoped>\n    .dataframe tbody tr th:only-of-type {\n        vertical-align: middle;\n    }\n\n    .dataframe tbody tr th {\n        vertical-align: top;\n    }\n\n    .dataframe thead th {\n        text-align: right;\n    }\n</style>\n<table border=\"1\" class=\"dataframe\">\n  <thead>\n    <tr style=\"text-align: right;\">\n      <th></th>\n      <th>City</th>\n      <th>country_id</th>\n      <th>Country</th>\n      <th>Latitude</th>\n      <th>Longitude</th>\n      <th>(Auckland,)</th>\n      <th>(Brasília,)</th>\n      <th>(Canoas,)</th>\n      <th>(Cape Town,)</th>\n      <th>(Hamilton,)</th>\n      <th>...</th>\n      <th>(Lvov,)</th>\n      <th>(Marseille,)</th>\n      <th>(Odesa,)</th>\n      <th>(Paris,)</th>\n      <th>(Stockholm,)</th>\n      <th>(Tokyo,)</th>\n      <th>(Tottori,)</th>\n      <th>(Uppsala,)</th>\n      <th>(Warsaw,)</th>\n      <th>(Wroclaw,)</th>\n    </tr>\n  </thead>\n  <tbody>\n    <tr>\n      <th>0</th>\n      <td>Auckland</td>\n      <td>NEW</td>\n      <td>New Zealand</td>\n      <td>36.17S</td>\n      <td>175.03E</td>\n      <td>1.0</td>\n      <td>0.0</td>\n      <td>0.0</td>\n      <td>0.0</td>\n      <td>0.0</td>\n      <td>...</td>\n      <td>0.0</td>\n      <td>0.0</td>\n      <td>0.0</td>\n      <td>0.0</td>\n      <td>0.0</td>\n      <td>0.0</td>\n      <td>0.0</td>\n      <td>0.0</td>\n      <td>0.0</td>\n      <td>0.0</td>\n    </tr>\n    <tr>\n      <th>1912</th>\n      <td>Auckland</td>\n      <td>NEW</td>\n      <td>New Zealand</td>\n      <td>36.17S</td>\n      <td>175.03E</td>\n      <td>0.0</td>\n      <td>1.0</td>\n      <td>0.0</td>\n      <td>0.0</td>\n      <td>0.0</td>\n      <td>...</td>\n      <td>0.0</td>\n      <td>0.0</td>\n      <td>0.0</td>\n      <td>0.0</td>\n      <td>0.0</td>\n      <td>0.0</td>\n      <td>0.0</td>\n      <td>0.0</td>\n      <td>0.0</td>\n      <td>0.0</td>\n    </tr>\n    <tr>\n      <th>1929</th>\n      <td>Brasília</td>\n      <td>BRA</td>\n      <td>Brazil</td>\n      <td>15.27S</td>\n      <td>47.50W</td>\n      <td>0.0</td>\n      <td>1.0</td>\n      <td>0.0</td>\n      <td>0.0</td>\n      <td>0.0</td>\n      <td>...</td>\n      <td>0.0</td>\n      <td>0.0</td>\n      <td>0.0</td>\n      <td>0.0</td>\n      <td>0.0</td>\n      <td>0.0</td>\n      <td>0.0</td>\n      <td>0.0</td>\n      <td>0.0</td>\n      <td>0.0</td>\n    </tr>\n    <tr>\n      <th>4068</th>\n      <td>Brasília</td>\n      <td>BRA</td>\n      <td>Brazil</td>\n      <td>15.27S</td>\n      <td>47.50W</td>\n      <td>0.0</td>\n      <td>0.0</td>\n      <td>1.0</td>\n      <td>0.0</td>\n      <td>0.0</td>\n      <td>...</td>\n      <td>0.0</td>\n      <td>0.0</td>\n      <td>0.0</td>\n      <td>0.0</td>\n      <td>0.0</td>\n      <td>0.0</td>\n      <td>0.0</td>\n      <td>0.0</td>\n      <td>0.0</td>\n      <td>0.0</td>\n    </tr>\n    <tr>\n      <th>4110</th>\n      <td>Canoas</td>\n      <td>BRA</td>\n      <td>Brazil</td>\n      <td>29.74S</td>\n      <td>51.69W</td>\n      <td>0.0</td>\n      <td>0.0</td>\n      <td>1.0</td>\n      <td>0.0</td>\n      <td>0.0</td>\n      <td>...</td>\n      <td>0.0</td>\n      <td>0.0</td>\n      <td>0.0</td>\n      <td>0.0</td>\n      <td>0.0</td>\n      <td>0.0</td>\n      <td>0.0</td>\n      <td>0.0</td>\n      <td>0.0</td>\n      <td>0.0</td>\n    </tr>\n    <tr>\n      <th>6225</th>\n      <td>Canoas</td>\n      <td>BRA</td>\n      <td>Brazil</td>\n      <td>29.74S</td>\n      <td>51.69W</td>\n      <td>0.0</td>\n      <td>0.0</td>\n      <td>0.0</td>\n      <td>1.0</td>\n      <td>0.0</td>\n      <td>...</td>\n      <td>0.0</td>\n      <td>0.0</td>\n      <td>0.0</td>\n      <td>0.0</td>\n      <td>0.0</td>\n      <td>0.0</td>\n      <td>0.0</td>\n      <td>0.0</td>\n      <td>0.0</td>\n      <td>0.0</td>\n    </tr>\n    <tr>\n      <th>6291</th>\n      <td>Cape Town</td>\n      <td>SOU</td>\n      <td>South Africa</td>\n      <td>32.95S</td>\n      <td>18.19E</td>\n      <td>0.0</td>\n      <td>0.0</td>\n      <td>0.0</td>\n      <td>1.0</td>\n      <td>0.0</td>\n      <td>...</td>\n      <td>0.0</td>\n      <td>0.0</td>\n      <td>0.0</td>\n      <td>0.0</td>\n      <td>0.0</td>\n      <td>0.0</td>\n      <td>0.0</td>\n      <td>0.0</td>\n      <td>0.0</td>\n      <td>0.0</td>\n    </tr>\n    <tr>\n      <th>8091</th>\n      <td>Cape Town</td>\n      <td>SOU</td>\n      <td>South Africa</td>\n      <td>32.95S</td>\n      <td>18.19E</td>\n      <td>0.0</td>\n      <td>0.0</td>\n      <td>0.0</td>\n      <td>0.0</td>\n      <td>1.0</td>\n      <td>...</td>\n      <td>0.0</td>\n      <td>0.0</td>\n      <td>0.0</td>\n      <td>0.0</td>\n      <td>0.0</td>\n      <td>0.0</td>\n      <td>0.0</td>\n      <td>0.0</td>\n      <td>0.0</td>\n      <td>0.0</td>\n    </tr>\n    <tr>\n      <th>8172</th>\n      <td>Hamilton</td>\n      <td>NEW</td>\n      <td>New Zealand</td>\n      <td>37.78S</td>\n      <td>174.92E</td>\n      <td>0.0</td>\n      <td>0.0</td>\n      <td>0.0</td>\n      <td>0.0</td>\n      <td>1.0</td>\n      <td>...</td>\n      <td>0.0</td>\n      <td>0.0</td>\n      <td>0.0</td>\n      <td>0.0</td>\n      <td>0.0</td>\n      <td>0.0</td>\n      <td>0.0</td>\n      <td>0.0</td>\n      <td>0.0</td>\n      <td>0.0</td>\n    </tr>\n    <tr>\n      <th>10005</th>\n      <td>Hamilton</td>\n      <td>NEW</td>\n      <td>New Zealand</td>\n      <td>37.78S</td>\n      <td>174.92E</td>\n      <td>0.0</td>\n      <td>0.0</td>\n      <td>0.0</td>\n      <td>0.0</td>\n      <td>0.0</td>\n      <td>...</td>\n      <td>0.0</td>\n      <td>0.0</td>\n      <td>0.0</td>\n      <td>0.0</td>\n      <td>0.0</td>\n      <td>0.0</td>\n      <td>0.0</td>\n      <td>0.0</td>\n      <td>0.0</td>\n      <td>0.0</td>\n    </tr>\n    <tr>\n      <th>10101</th>\n      <td>Johannesburg</td>\n      <td>SOU</td>\n      <td>South Africa</td>\n      <td>26.52S</td>\n      <td>28.66E</td>\n      <td>0.0</td>\n      <td>0.0</td>\n      <td>0.0</td>\n      <td>0.0</td>\n      <td>0.0</td>\n      <td>...</td>\n      <td>0.0</td>\n      <td>0.0</td>\n      <td>0.0</td>\n      <td>0.0</td>\n      <td>0.0</td>\n      <td>0.0</td>\n      <td>0.0</td>\n      <td>0.0</td>\n      <td>0.0</td>\n      <td>0.0</td>\n    </tr>\n    <tr>\n      <th>11860</th>\n      <td>Johannesburg</td>\n      <td>SOU</td>\n      <td>South Africa</td>\n      <td>26.52S</td>\n      <td>28.66E</td>\n      <td>0.0</td>\n      <td>0.0</td>\n      <td>0.0</td>\n      <td>0.0</td>\n      <td>0.0</td>\n      <td>...</td>\n      <td>0.0</td>\n      <td>0.0</td>\n      <td>0.0</td>\n      <td>0.0</td>\n      <td>0.0</td>\n      <td>0.0</td>\n      <td>0.0</td>\n      <td>0.0</td>\n      <td>0.0</td>\n      <td>0.0</td>\n    </tr>\n    <tr>\n      <th>11982</th>\n      <td>Kherson</td>\n      <td>UKR</td>\n      <td>Ukraine</td>\n      <td>47.42N</td>\n      <td>31.97E</td>\n      <td>0.0</td>\n      <td>0.0</td>\n      <td>0.0</td>\n      <td>0.0</td>\n      <td>0.0</td>\n      <td>...</td>\n      <td>0.0</td>\n      <td>0.0</td>\n      <td>0.0</td>\n      <td>0.0</td>\n      <td>0.0</td>\n      <td>0.0</td>\n      <td>0.0</td>\n      <td>0.0</td>\n      <td>0.0</td>\n      <td>0.0</td>\n    </tr>\n    <tr>\n      <th>15069</th>\n      <td>Kherson</td>\n      <td>UKR</td>\n      <td>Ukraine</td>\n      <td>47.42N</td>\n      <td>31.97E</td>\n      <td>0.0</td>\n      <td>0.0</td>\n      <td>0.0</td>\n      <td>0.0</td>\n      <td>0.0</td>\n      <td>...</td>\n      <td>0.0</td>\n      <td>0.0</td>\n      <td>0.0</td>\n      <td>0.0</td>\n      <td>0.0</td>\n      <td>0.0</td>\n      <td>0.0</td>\n      <td>0.0</td>\n      <td>0.0</td>\n      <td>0.0</td>\n    </tr>\n    <tr>\n      <th>15221</th>\n      <td>Kiev</td>\n      <td>UKR</td>\n      <td>Ukraine</td>\n      <td>50.63N</td>\n      <td>31.69E</td>\n      <td>0.0</td>\n      <td>0.0</td>\n      <td>0.0</td>\n      <td>0.0</td>\n      <td>0.0</td>\n      <td>...</td>\n      <td>0.0</td>\n      <td>0.0</td>\n      <td>0.0</td>\n      <td>0.0</td>\n      <td>0.0</td>\n      <td>0.0</td>\n      <td>0.0</td>\n      <td>0.0</td>\n      <td>0.0</td>\n      <td>0.0</td>\n    </tr>\n    <tr>\n      <th>18277</th>\n      <td>Kiev</td>\n      <td>UKR</td>\n      <td>Ukraine</td>\n      <td>50.63N</td>\n      <td>31.69E</td>\n      <td>0.0</td>\n      <td>0.0</td>\n      <td>0.0</td>\n      <td>0.0</td>\n      <td>0.0</td>\n      <td>...</td>\n      <td>1.0</td>\n      <td>0.0</td>\n      <td>0.0</td>\n      <td>0.0</td>\n      <td>0.0</td>\n      <td>0.0</td>\n      <td>0.0</td>\n      <td>0.0</td>\n      <td>0.0</td>\n      <td>0.0</td>\n    </tr>\n    <tr>\n      <th>18460</th>\n      <td>Lvov</td>\n      <td>UKR</td>\n      <td>Ukraine</td>\n      <td>50.63N</td>\n      <td>24.08E</td>\n      <td>0.0</td>\n      <td>0.0</td>\n      <td>0.0</td>\n      <td>0.0</td>\n      <td>0.0</td>\n      <td>...</td>\n      <td>1.0</td>\n      <td>0.0</td>\n      <td>0.0</td>\n      <td>0.0</td>\n      <td>0.0</td>\n      <td>0.0</td>\n      <td>0.0</td>\n      <td>0.0</td>\n      <td>0.0</td>\n      <td>0.0</td>\n    </tr>\n    <tr>\n      <th>21484</th>\n      <td>Lvov</td>\n      <td>UKR</td>\n      <td>Ukraine</td>\n      <td>50.63N</td>\n      <td>24.08E</td>\n      <td>0.0</td>\n      <td>0.0</td>\n      <td>0.0</td>\n      <td>0.0</td>\n      <td>0.0</td>\n      <td>...</td>\n      <td>0.0</td>\n      <td>1.0</td>\n      <td>0.0</td>\n      <td>0.0</td>\n      <td>0.0</td>\n      <td>0.0</td>\n      <td>0.0</td>\n      <td>0.0</td>\n      <td>0.0</td>\n      <td>0.0</td>\n    </tr>\n    <tr>\n      <th>21699</th>\n      <td>Marseille</td>\n      <td>FRA</td>\n      <td>France</td>\n      <td>42.59N</td>\n      <td>6.55E</td>\n      <td>0.0</td>\n      <td>0.0</td>\n      <td>0.0</td>\n      <td>0.0</td>\n      <td>0.0</td>\n      <td>...</td>\n      <td>0.0</td>\n      <td>1.0</td>\n      <td>0.0</td>\n      <td>0.0</td>\n      <td>0.0</td>\n      <td>0.0</td>\n      <td>0.0</td>\n      <td>0.0</td>\n      <td>0.0</td>\n      <td>0.0</td>\n    </tr>\n    <tr>\n      <th>24686</th>\n      <td>Marseille</td>\n      <td>FRA</td>\n      <td>France</td>\n      <td>42.59N</td>\n      <td>6.55E</td>\n      <td>0.0</td>\n      <td>0.0</td>\n      <td>0.0</td>\n      <td>0.0</td>\n      <td>0.0</td>\n      <td>...</td>\n      <td>0.0</td>\n      <td>0.0</td>\n      <td>1.0</td>\n      <td>0.0</td>\n      <td>0.0</td>\n      <td>0.0</td>\n      <td>0.0</td>\n      <td>0.0</td>\n      <td>0.0</td>\n      <td>0.0</td>\n    </tr>\n    <tr>\n      <th>24938</th>\n      <td>Odesa</td>\n      <td>UKR</td>\n      <td>Ukraine</td>\n      <td>45.81N</td>\n      <td>31.15E</td>\n      <td>0.0</td>\n      <td>0.0</td>\n      <td>0.0</td>\n      <td>0.0</td>\n      <td>0.0</td>\n      <td>...</td>\n      <td>0.0</td>\n      <td>0.0</td>\n      <td>1.0</td>\n      <td>0.0</td>\n      <td>0.0</td>\n      <td>0.0</td>\n      <td>0.0</td>\n      <td>0.0</td>\n      <td>0.0</td>\n      <td>0.0</td>\n    </tr>\n    <tr>\n      <th>27900</th>\n      <td>Odesa</td>\n      <td>UKR</td>\n      <td>Ukraine</td>\n      <td>45.81N</td>\n      <td>31.15E</td>\n      <td>0.0</td>\n      <td>0.0</td>\n      <td>0.0</td>\n      <td>0.0</td>\n      <td>0.0</td>\n      <td>...</td>\n      <td>0.0</td>\n      <td>0.0</td>\n      <td>0.0</td>\n      <td>1.0</td>\n      <td>0.0</td>\n      <td>0.0</td>\n      <td>0.0</td>\n      <td>0.0</td>\n      <td>0.0</td>\n      <td>0.0</td>\n    </tr>\n    <tr>\n      <th>28177</th>\n      <td>Paris</td>\n      <td>FRA</td>\n      <td>France</td>\n      <td>49.03N</td>\n      <td>2.45E</td>\n      <td>0.0</td>\n      <td>0.0</td>\n      <td>0.0</td>\n      <td>0.0</td>\n      <td>0.0</td>\n      <td>...</td>\n      <td>0.0</td>\n      <td>0.0</td>\n      <td>0.0</td>\n      <td>1.0</td>\n      <td>0.0</td>\n      <td>0.0</td>\n      <td>0.0</td>\n      <td>0.0</td>\n      <td>0.0</td>\n      <td>0.0</td>\n    </tr>\n    <tr>\n      <th>31111</th>\n      <td>Paris</td>\n      <td>FRA</td>\n      <td>France</td>\n      <td>49.03N</td>\n      <td>2.45E</td>\n      <td>0.0</td>\n      <td>0.0</td>\n      <td>0.0</td>\n      <td>0.0</td>\n      <td>0.0</td>\n      <td>...</td>\n      <td>0.0</td>\n      <td>0.0</td>\n      <td>0.0</td>\n      <td>0.0</td>\n      <td>1.0</td>\n      <td>0.0</td>\n      <td>0.0</td>\n      <td>0.0</td>\n      <td>0.0</td>\n      <td>0.0</td>\n    </tr>\n    <tr>\n      <th>31416</th>\n      <td>Stockholm</td>\n      <td>SWE</td>\n      <td>Sweden</td>\n      <td>58.66N</td>\n      <td>18.46E</td>\n      <td>0.0</td>\n      <td>0.0</td>\n      <td>0.0</td>\n      <td>0.0</td>\n      <td>0.0</td>\n      <td>...</td>\n      <td>0.0</td>\n      <td>0.0</td>\n      <td>0.0</td>\n      <td>0.0</td>\n      <td>1.0</td>\n      <td>0.0</td>\n      <td>0.0</td>\n      <td>0.0</td>\n      <td>0.0</td>\n      <td>0.0</td>\n    </tr>\n    <tr>\n      <th>34317</th>\n      <td>Stockholm</td>\n      <td>SWE</td>\n      <td>Sweden</td>\n      <td>58.66N</td>\n      <td>18.46E</td>\n      <td>0.0</td>\n      <td>0.0</td>\n      <td>0.0</td>\n      <td>0.0</td>\n      <td>0.0</td>\n      <td>...</td>\n      <td>0.0</td>\n      <td>0.0</td>\n      <td>0.0</td>\n      <td>0.0</td>\n      <td>0.0</td>\n      <td>1.0</td>\n      <td>0.0</td>\n      <td>0.0</td>\n      <td>0.0</td>\n      <td>0.0</td>\n    </tr>\n    <tr>\n      <th>34655</th>\n      <td>Tokyo</td>\n      <td>JAP</td>\n      <td>Japan</td>\n      <td>36.17N</td>\n      <td>139.23E</td>\n      <td>0.0</td>\n      <td>0.0</td>\n      <td>0.0</td>\n      <td>0.0</td>\n      <td>0.0</td>\n      <td>...</td>\n      <td>0.0</td>\n      <td>0.0</td>\n      <td>0.0</td>\n      <td>0.0</td>\n      <td>0.0</td>\n      <td>1.0</td>\n      <td>0.0</td>\n      <td>0.0</td>\n      <td>0.0</td>\n      <td>0.0</td>\n    </tr>\n    <tr>\n      <th>36318</th>\n      <td>Tokyo</td>\n      <td>JAP</td>\n      <td>Japan</td>\n      <td>36.17N</td>\n      <td>139.23E</td>\n      <td>0.0</td>\n      <td>0.0</td>\n      <td>0.0</td>\n      <td>0.0</td>\n      <td>0.0</td>\n      <td>...</td>\n      <td>0.0</td>\n      <td>0.0</td>\n      <td>0.0</td>\n      <td>0.0</td>\n      <td>0.0</td>\n      <td>0.0</td>\n      <td>1.0</td>\n      <td>0.0</td>\n      <td>0.0</td>\n      <td>0.0</td>\n    </tr>\n    <tr>\n      <th>36680</th>\n      <td>Tottori</td>\n      <td>JAP</td>\n      <td>Japan</td>\n      <td>34.56N</td>\n      <td>134.27E</td>\n      <td>0.0</td>\n      <td>0.0</td>\n      <td>0.0</td>\n      <td>0.0</td>\n      <td>0.0</td>\n      <td>...</td>\n      <td>0.0</td>\n      <td>0.0</td>\n      <td>0.0</td>\n      <td>0.0</td>\n      <td>0.0</td>\n      <td>0.0</td>\n      <td>1.0</td>\n      <td>0.0</td>\n      <td>0.0</td>\n      <td>0.0</td>\n    </tr>\n    <tr>\n      <th>38374</th>\n      <td>Tottori</td>\n      <td>JAP</td>\n      <td>Japan</td>\n      <td>34.56N</td>\n      <td>134.27E</td>\n      <td>0.0</td>\n      <td>0.0</td>\n      <td>0.0</td>\n      <td>0.0</td>\n      <td>0.0</td>\n      <td>...</td>\n      <td>0.0</td>\n      <td>0.0</td>\n      <td>0.0</td>\n      <td>0.0</td>\n      <td>0.0</td>\n      <td>0.0</td>\n      <td>0.0</td>\n      <td>1.0</td>\n      <td>0.0</td>\n      <td>0.0</td>\n    </tr>\n    <tr>\n      <th>38753</th>\n      <td>Uppsala</td>\n      <td>SWE</td>\n      <td>Sweden</td>\n      <td>60.27N</td>\n      <td>16.22E</td>\n      <td>0.0</td>\n      <td>0.0</td>\n      <td>0.0</td>\n      <td>0.0</td>\n      <td>0.0</td>\n      <td>...</td>\n      <td>0.0</td>\n      <td>0.0</td>\n      <td>0.0</td>\n      <td>0.0</td>\n      <td>0.0</td>\n      <td>0.0</td>\n      <td>0.0</td>\n      <td>1.0</td>\n      <td>0.0</td>\n      <td>0.0</td>\n    </tr>\n    <tr>\n      <th>41575</th>\n      <td>Uppsala</td>\n      <td>SWE</td>\n      <td>Sweden</td>\n      <td>60.27N</td>\n      <td>16.22E</td>\n      <td>0.0</td>\n      <td>0.0</td>\n      <td>0.0</td>\n      <td>0.0</td>\n      <td>0.0</td>\n      <td>...</td>\n      <td>0.0</td>\n      <td>0.0</td>\n      <td>0.0</td>\n      <td>0.0</td>\n      <td>0.0</td>\n      <td>0.0</td>\n      <td>0.0</td>\n      <td>0.0</td>\n      <td>1.0</td>\n      <td>0.0</td>\n    </tr>\n    <tr>\n      <th>41992</th>\n      <td>Warsaw</td>\n      <td>POL</td>\n      <td>Poland</td>\n      <td>52.24N</td>\n      <td>21.02E</td>\n      <td>0.0</td>\n      <td>0.0</td>\n      <td>0.0</td>\n      <td>0.0</td>\n      <td>0.0</td>\n      <td>...</td>\n      <td>0.0</td>\n      <td>0.0</td>\n      <td>0.0</td>\n      <td>0.0</td>\n      <td>0.0</td>\n      <td>0.0</td>\n      <td>0.0</td>\n      <td>0.0</td>\n      <td>1.0</td>\n      <td>0.0</td>\n    </tr>\n    <tr>\n      <th>44778</th>\n      <td>Warsaw</td>\n      <td>POL</td>\n      <td>Poland</td>\n      <td>52.24N</td>\n      <td>21.02E</td>\n      <td>0.0</td>\n      <td>0.0</td>\n      <td>0.0</td>\n      <td>0.0</td>\n      <td>0.0</td>\n      <td>...</td>\n      <td>0.0</td>\n      <td>0.0</td>\n      <td>0.0</td>\n      <td>0.0</td>\n      <td>0.0</td>\n      <td>0.0</td>\n      <td>0.0</td>\n      <td>0.0</td>\n      <td>0.0</td>\n      <td>1.0</td>\n    </tr>\n    <tr>\n      <th>45231</th>\n      <td>Wroclaw</td>\n      <td>POL</td>\n      <td>Poland</td>\n      <td>50.63N</td>\n      <td>16.48E</td>\n      <td>0.0</td>\n      <td>0.0</td>\n      <td>0.0</td>\n      <td>0.0</td>\n      <td>0.0</td>\n      <td>...</td>\n      <td>0.0</td>\n      <td>0.0</td>\n      <td>0.0</td>\n      <td>0.0</td>\n      <td>0.0</td>\n      <td>0.0</td>\n      <td>0.0</td>\n      <td>0.0</td>\n      <td>0.0</td>\n      <td>1.0</td>\n    </tr>\n  </tbody>\n</table>\n<p>35 rows × 23 columns</p>\n</div>"
     },
     "metadata": {},
     "execution_count": 78
    }
   ],
   "source": [
    "nf = nf.drop_duplicates()\n",
    "nf"
   ]
  },
  {
   "cell_type": "code",
   "execution_count": 80,
   "metadata": {},
   "outputs": [
    {
     "output_type": "execute_result",
     "data": {
      "text/plain": [
       "      country_id       Country Latitude Longitude  (Auckland,)  (Brasília,)  \\\n",
       "0            NEW   New Zealand   36.17S   175.03E          1.0          0.0   \n",
       "1912         NEW   New Zealand   36.17S   175.03E          0.0          1.0   \n",
       "1929         BRA        Brazil   15.27S    47.50W          0.0          1.0   \n",
       "4068         BRA        Brazil   15.27S    47.50W          0.0          0.0   \n",
       "4110         BRA        Brazil   29.74S    51.69W          0.0          0.0   \n",
       "6225         BRA        Brazil   29.74S    51.69W          0.0          0.0   \n",
       "6291         SOU  South Africa   32.95S    18.19E          0.0          0.0   \n",
       "8091         SOU  South Africa   32.95S    18.19E          0.0          0.0   \n",
       "8172         NEW   New Zealand   37.78S   174.92E          0.0          0.0   \n",
       "10005        NEW   New Zealand   37.78S   174.92E          0.0          0.0   \n",
       "10101        SOU  South Africa   26.52S    28.66E          0.0          0.0   \n",
       "11860        SOU  South Africa   26.52S    28.66E          0.0          0.0   \n",
       "11982        UKR       Ukraine   47.42N    31.97E          0.0          0.0   \n",
       "15069        UKR       Ukraine   47.42N    31.97E          0.0          0.0   \n",
       "15221        UKR       Ukraine   50.63N    31.69E          0.0          0.0   \n",
       "18277        UKR       Ukraine   50.63N    31.69E          0.0          0.0   \n",
       "18460        UKR       Ukraine   50.63N    24.08E          0.0          0.0   \n",
       "21484        UKR       Ukraine   50.63N    24.08E          0.0          0.0   \n",
       "21699        FRA        France   42.59N     6.55E          0.0          0.0   \n",
       "24686        FRA        France   42.59N     6.55E          0.0          0.0   \n",
       "24938        UKR       Ukraine   45.81N    31.15E          0.0          0.0   \n",
       "27900        UKR       Ukraine   45.81N    31.15E          0.0          0.0   \n",
       "28177        FRA        France   49.03N     2.45E          0.0          0.0   \n",
       "31111        FRA        France   49.03N     2.45E          0.0          0.0   \n",
       "31416        SWE        Sweden   58.66N    18.46E          0.0          0.0   \n",
       "34317        SWE        Sweden   58.66N    18.46E          0.0          0.0   \n",
       "34655        JAP         Japan   36.17N   139.23E          0.0          0.0   \n",
       "36318        JAP         Japan   36.17N   139.23E          0.0          0.0   \n",
       "36680        JAP         Japan   34.56N   134.27E          0.0          0.0   \n",
       "38374        JAP         Japan   34.56N   134.27E          0.0          0.0   \n",
       "38753        SWE        Sweden   60.27N    16.22E          0.0          0.0   \n",
       "41575        SWE        Sweden   60.27N    16.22E          0.0          0.0   \n",
       "41992        POL        Poland   52.24N    21.02E          0.0          0.0   \n",
       "44778        POL        Poland   52.24N    21.02E          0.0          0.0   \n",
       "45231        POL        Poland   50.63N    16.48E          0.0          0.0   \n",
       "\n",
       "       (Canoas,)  (Cape Town,)  (Hamilton,)  (Johannesburg,)  ...  (Lvov,)  \\\n",
       "0            0.0           0.0          0.0              0.0  ...      0.0   \n",
       "1912         0.0           0.0          0.0              0.0  ...      0.0   \n",
       "1929         0.0           0.0          0.0              0.0  ...      0.0   \n",
       "4068         1.0           0.0          0.0              0.0  ...      0.0   \n",
       "4110         1.0           0.0          0.0              0.0  ...      0.0   \n",
       "6225         0.0           1.0          0.0              0.0  ...      0.0   \n",
       "6291         0.0           1.0          0.0              0.0  ...      0.0   \n",
       "8091         0.0           0.0          1.0              0.0  ...      0.0   \n",
       "8172         0.0           0.0          1.0              0.0  ...      0.0   \n",
       "10005        0.0           0.0          0.0              1.0  ...      0.0   \n",
       "10101        0.0           0.0          0.0              1.0  ...      0.0   \n",
       "11860        0.0           0.0          0.0              0.0  ...      0.0   \n",
       "11982        0.0           0.0          0.0              0.0  ...      0.0   \n",
       "15069        0.0           0.0          0.0              0.0  ...      0.0   \n",
       "15221        0.0           0.0          0.0              0.0  ...      0.0   \n",
       "18277        0.0           0.0          0.0              0.0  ...      1.0   \n",
       "18460        0.0           0.0          0.0              0.0  ...      1.0   \n",
       "21484        0.0           0.0          0.0              0.0  ...      0.0   \n",
       "21699        0.0           0.0          0.0              0.0  ...      0.0   \n",
       "24686        0.0           0.0          0.0              0.0  ...      0.0   \n",
       "24938        0.0           0.0          0.0              0.0  ...      0.0   \n",
       "27900        0.0           0.0          0.0              0.0  ...      0.0   \n",
       "28177        0.0           0.0          0.0              0.0  ...      0.0   \n",
       "31111        0.0           0.0          0.0              0.0  ...      0.0   \n",
       "31416        0.0           0.0          0.0              0.0  ...      0.0   \n",
       "34317        0.0           0.0          0.0              0.0  ...      0.0   \n",
       "34655        0.0           0.0          0.0              0.0  ...      0.0   \n",
       "36318        0.0           0.0          0.0              0.0  ...      0.0   \n",
       "36680        0.0           0.0          0.0              0.0  ...      0.0   \n",
       "38374        0.0           0.0          0.0              0.0  ...      0.0   \n",
       "38753        0.0           0.0          0.0              0.0  ...      0.0   \n",
       "41575        0.0           0.0          0.0              0.0  ...      0.0   \n",
       "41992        0.0           0.0          0.0              0.0  ...      0.0   \n",
       "44778        0.0           0.0          0.0              0.0  ...      0.0   \n",
       "45231        0.0           0.0          0.0              0.0  ...      0.0   \n",
       "\n",
       "       (Marseille,)  (Odesa,)  (Paris,)  (Stockholm,)  (Tokyo,)  (Tottori,)  \\\n",
       "0               0.0       0.0       0.0           0.0       0.0         0.0   \n",
       "1912            0.0       0.0       0.0           0.0       0.0         0.0   \n",
       "1929            0.0       0.0       0.0           0.0       0.0         0.0   \n",
       "4068            0.0       0.0       0.0           0.0       0.0         0.0   \n",
       "4110            0.0       0.0       0.0           0.0       0.0         0.0   \n",
       "6225            0.0       0.0       0.0           0.0       0.0         0.0   \n",
       "6291            0.0       0.0       0.0           0.0       0.0         0.0   \n",
       "8091            0.0       0.0       0.0           0.0       0.0         0.0   \n",
       "8172            0.0       0.0       0.0           0.0       0.0         0.0   \n",
       "10005           0.0       0.0       0.0           0.0       0.0         0.0   \n",
       "10101           0.0       0.0       0.0           0.0       0.0         0.0   \n",
       "11860           0.0       0.0       0.0           0.0       0.0         0.0   \n",
       "11982           0.0       0.0       0.0           0.0       0.0         0.0   \n",
       "15069           0.0       0.0       0.0           0.0       0.0         0.0   \n",
       "15221           0.0       0.0       0.0           0.0       0.0         0.0   \n",
       "18277           0.0       0.0       0.0           0.0       0.0         0.0   \n",
       "18460           0.0       0.0       0.0           0.0       0.0         0.0   \n",
       "21484           1.0       0.0       0.0           0.0       0.0         0.0   \n",
       "21699           1.0       0.0       0.0           0.0       0.0         0.0   \n",
       "24686           0.0       1.0       0.0           0.0       0.0         0.0   \n",
       "24938           0.0       1.0       0.0           0.0       0.0         0.0   \n",
       "27900           0.0       0.0       1.0           0.0       0.0         0.0   \n",
       "28177           0.0       0.0       1.0           0.0       0.0         0.0   \n",
       "31111           0.0       0.0       0.0           1.0       0.0         0.0   \n",
       "31416           0.0       0.0       0.0           1.0       0.0         0.0   \n",
       "34317           0.0       0.0       0.0           0.0       1.0         0.0   \n",
       "34655           0.0       0.0       0.0           0.0       1.0         0.0   \n",
       "36318           0.0       0.0       0.0           0.0       0.0         1.0   \n",
       "36680           0.0       0.0       0.0           0.0       0.0         1.0   \n",
       "38374           0.0       0.0       0.0           0.0       0.0         0.0   \n",
       "38753           0.0       0.0       0.0           0.0       0.0         0.0   \n",
       "41575           0.0       0.0       0.0           0.0       0.0         0.0   \n",
       "41992           0.0       0.0       0.0           0.0       0.0         0.0   \n",
       "44778           0.0       0.0       0.0           0.0       0.0         0.0   \n",
       "45231           0.0       0.0       0.0           0.0       0.0         0.0   \n",
       "\n",
       "       (Uppsala,)  (Warsaw,)  (Wroclaw,)  \n",
       "0             0.0        0.0         0.0  \n",
       "1912          0.0        0.0         0.0  \n",
       "1929          0.0        0.0         0.0  \n",
       "4068          0.0        0.0         0.0  \n",
       "4110          0.0        0.0         0.0  \n",
       "6225          0.0        0.0         0.0  \n",
       "6291          0.0        0.0         0.0  \n",
       "8091          0.0        0.0         0.0  \n",
       "8172          0.0        0.0         0.0  \n",
       "10005         0.0        0.0         0.0  \n",
       "10101         0.0        0.0         0.0  \n",
       "11860         0.0        0.0         0.0  \n",
       "11982         0.0        0.0         0.0  \n",
       "15069         0.0        0.0         0.0  \n",
       "15221         0.0        0.0         0.0  \n",
       "18277         0.0        0.0         0.0  \n",
       "18460         0.0        0.0         0.0  \n",
       "21484         0.0        0.0         0.0  \n",
       "21699         0.0        0.0         0.0  \n",
       "24686         0.0        0.0         0.0  \n",
       "24938         0.0        0.0         0.0  \n",
       "27900         0.0        0.0         0.0  \n",
       "28177         0.0        0.0         0.0  \n",
       "31111         0.0        0.0         0.0  \n",
       "31416         0.0        0.0         0.0  \n",
       "34317         0.0        0.0         0.0  \n",
       "34655         0.0        0.0         0.0  \n",
       "36318         0.0        0.0         0.0  \n",
       "36680         0.0        0.0         0.0  \n",
       "38374         1.0        0.0         0.0  \n",
       "38753         1.0        0.0         0.0  \n",
       "41575         0.0        1.0         0.0  \n",
       "41992         0.0        1.0         0.0  \n",
       "44778         0.0        0.0         1.0  \n",
       "45231         0.0        0.0         1.0  \n",
       "\n",
       "[35 rows x 22 columns]"
      ],
      "text/html": "<div>\n<style scoped>\n    .dataframe tbody tr th:only-of-type {\n        vertical-align: middle;\n    }\n\n    .dataframe tbody tr th {\n        vertical-align: top;\n    }\n\n    .dataframe thead th {\n        text-align: right;\n    }\n</style>\n<table border=\"1\" class=\"dataframe\">\n  <thead>\n    <tr style=\"text-align: right;\">\n      <th></th>\n      <th>country_id</th>\n      <th>Country</th>\n      <th>Latitude</th>\n      <th>Longitude</th>\n      <th>(Auckland,)</th>\n      <th>(Brasília,)</th>\n      <th>(Canoas,)</th>\n      <th>(Cape Town,)</th>\n      <th>(Hamilton,)</th>\n      <th>(Johannesburg,)</th>\n      <th>...</th>\n      <th>(Lvov,)</th>\n      <th>(Marseille,)</th>\n      <th>(Odesa,)</th>\n      <th>(Paris,)</th>\n      <th>(Stockholm,)</th>\n      <th>(Tokyo,)</th>\n      <th>(Tottori,)</th>\n      <th>(Uppsala,)</th>\n      <th>(Warsaw,)</th>\n      <th>(Wroclaw,)</th>\n    </tr>\n  </thead>\n  <tbody>\n    <tr>\n      <th>0</th>\n      <td>NEW</td>\n      <td>New Zealand</td>\n      <td>36.17S</td>\n      <td>175.03E</td>\n      <td>1.0</td>\n      <td>0.0</td>\n      <td>0.0</td>\n      <td>0.0</td>\n      <td>0.0</td>\n      <td>0.0</td>\n      <td>...</td>\n      <td>0.0</td>\n      <td>0.0</td>\n      <td>0.0</td>\n      <td>0.0</td>\n      <td>0.0</td>\n      <td>0.0</td>\n      <td>0.0</td>\n      <td>0.0</td>\n      <td>0.0</td>\n      <td>0.0</td>\n    </tr>\n    <tr>\n      <th>1912</th>\n      <td>NEW</td>\n      <td>New Zealand</td>\n      <td>36.17S</td>\n      <td>175.03E</td>\n      <td>0.0</td>\n      <td>1.0</td>\n      <td>0.0</td>\n      <td>0.0</td>\n      <td>0.0</td>\n      <td>0.0</td>\n      <td>...</td>\n      <td>0.0</td>\n      <td>0.0</td>\n      <td>0.0</td>\n      <td>0.0</td>\n      <td>0.0</td>\n      <td>0.0</td>\n      <td>0.0</td>\n      <td>0.0</td>\n      <td>0.0</td>\n      <td>0.0</td>\n    </tr>\n    <tr>\n      <th>1929</th>\n      <td>BRA</td>\n      <td>Brazil</td>\n      <td>15.27S</td>\n      <td>47.50W</td>\n      <td>0.0</td>\n      <td>1.0</td>\n      <td>0.0</td>\n      <td>0.0</td>\n      <td>0.0</td>\n      <td>0.0</td>\n      <td>...</td>\n      <td>0.0</td>\n      <td>0.0</td>\n      <td>0.0</td>\n      <td>0.0</td>\n      <td>0.0</td>\n      <td>0.0</td>\n      <td>0.0</td>\n      <td>0.0</td>\n      <td>0.0</td>\n      <td>0.0</td>\n    </tr>\n    <tr>\n      <th>4068</th>\n      <td>BRA</td>\n      <td>Brazil</td>\n      <td>15.27S</td>\n      <td>47.50W</td>\n      <td>0.0</td>\n      <td>0.0</td>\n      <td>1.0</td>\n      <td>0.0</td>\n      <td>0.0</td>\n      <td>0.0</td>\n      <td>...</td>\n      <td>0.0</td>\n      <td>0.0</td>\n      <td>0.0</td>\n      <td>0.0</td>\n      <td>0.0</td>\n      <td>0.0</td>\n      <td>0.0</td>\n      <td>0.0</td>\n      <td>0.0</td>\n      <td>0.0</td>\n    </tr>\n    <tr>\n      <th>4110</th>\n      <td>BRA</td>\n      <td>Brazil</td>\n      <td>29.74S</td>\n      <td>51.69W</td>\n      <td>0.0</td>\n      <td>0.0</td>\n      <td>1.0</td>\n      <td>0.0</td>\n      <td>0.0</td>\n      <td>0.0</td>\n      <td>...</td>\n      <td>0.0</td>\n      <td>0.0</td>\n      <td>0.0</td>\n      <td>0.0</td>\n      <td>0.0</td>\n      <td>0.0</td>\n      <td>0.0</td>\n      <td>0.0</td>\n      <td>0.0</td>\n      <td>0.0</td>\n    </tr>\n    <tr>\n      <th>6225</th>\n      <td>BRA</td>\n      <td>Brazil</td>\n      <td>29.74S</td>\n      <td>51.69W</td>\n      <td>0.0</td>\n      <td>0.0</td>\n      <td>0.0</td>\n      <td>1.0</td>\n      <td>0.0</td>\n      <td>0.0</td>\n      <td>...</td>\n      <td>0.0</td>\n      <td>0.0</td>\n      <td>0.0</td>\n      <td>0.0</td>\n      <td>0.0</td>\n      <td>0.0</td>\n      <td>0.0</td>\n      <td>0.0</td>\n      <td>0.0</td>\n      <td>0.0</td>\n    </tr>\n    <tr>\n      <th>6291</th>\n      <td>SOU</td>\n      <td>South Africa</td>\n      <td>32.95S</td>\n      <td>18.19E</td>\n      <td>0.0</td>\n      <td>0.0</td>\n      <td>0.0</td>\n      <td>1.0</td>\n      <td>0.0</td>\n      <td>0.0</td>\n      <td>...</td>\n      <td>0.0</td>\n      <td>0.0</td>\n      <td>0.0</td>\n      <td>0.0</td>\n      <td>0.0</td>\n      <td>0.0</td>\n      <td>0.0</td>\n      <td>0.0</td>\n      <td>0.0</td>\n      <td>0.0</td>\n    </tr>\n    <tr>\n      <th>8091</th>\n      <td>SOU</td>\n      <td>South Africa</td>\n      <td>32.95S</td>\n      <td>18.19E</td>\n      <td>0.0</td>\n      <td>0.0</td>\n      <td>0.0</td>\n      <td>0.0</td>\n      <td>1.0</td>\n      <td>0.0</td>\n      <td>...</td>\n      <td>0.0</td>\n      <td>0.0</td>\n      <td>0.0</td>\n      <td>0.0</td>\n      <td>0.0</td>\n      <td>0.0</td>\n      <td>0.0</td>\n      <td>0.0</td>\n      <td>0.0</td>\n      <td>0.0</td>\n    </tr>\n    <tr>\n      <th>8172</th>\n      <td>NEW</td>\n      <td>New Zealand</td>\n      <td>37.78S</td>\n      <td>174.92E</td>\n      <td>0.0</td>\n      <td>0.0</td>\n      <td>0.0</td>\n      <td>0.0</td>\n      <td>1.0</td>\n      <td>0.0</td>\n      <td>...</td>\n      <td>0.0</td>\n      <td>0.0</td>\n      <td>0.0</td>\n      <td>0.0</td>\n      <td>0.0</td>\n      <td>0.0</td>\n      <td>0.0</td>\n      <td>0.0</td>\n      <td>0.0</td>\n      <td>0.0</td>\n    </tr>\n    <tr>\n      <th>10005</th>\n      <td>NEW</td>\n      <td>New Zealand</td>\n      <td>37.78S</td>\n      <td>174.92E</td>\n      <td>0.0</td>\n      <td>0.0</td>\n      <td>0.0</td>\n      <td>0.0</td>\n      <td>0.0</td>\n      <td>1.0</td>\n      <td>...</td>\n      <td>0.0</td>\n      <td>0.0</td>\n      <td>0.0</td>\n      <td>0.0</td>\n      <td>0.0</td>\n      <td>0.0</td>\n      <td>0.0</td>\n      <td>0.0</td>\n      <td>0.0</td>\n      <td>0.0</td>\n    </tr>\n    <tr>\n      <th>10101</th>\n      <td>SOU</td>\n      <td>South Africa</td>\n      <td>26.52S</td>\n      <td>28.66E</td>\n      <td>0.0</td>\n      <td>0.0</td>\n      <td>0.0</td>\n      <td>0.0</td>\n      <td>0.0</td>\n      <td>1.0</td>\n      <td>...</td>\n      <td>0.0</td>\n      <td>0.0</td>\n      <td>0.0</td>\n      <td>0.0</td>\n      <td>0.0</td>\n      <td>0.0</td>\n      <td>0.0</td>\n      <td>0.0</td>\n      <td>0.0</td>\n      <td>0.0</td>\n    </tr>\n    <tr>\n      <th>11860</th>\n      <td>SOU</td>\n      <td>South Africa</td>\n      <td>26.52S</td>\n      <td>28.66E</td>\n      <td>0.0</td>\n      <td>0.0</td>\n      <td>0.0</td>\n      <td>0.0</td>\n      <td>0.0</td>\n      <td>0.0</td>\n      <td>...</td>\n      <td>0.0</td>\n      <td>0.0</td>\n      <td>0.0</td>\n      <td>0.0</td>\n      <td>0.0</td>\n      <td>0.0</td>\n      <td>0.0</td>\n      <td>0.0</td>\n      <td>0.0</td>\n      <td>0.0</td>\n    </tr>\n    <tr>\n      <th>11982</th>\n      <td>UKR</td>\n      <td>Ukraine</td>\n      <td>47.42N</td>\n      <td>31.97E</td>\n      <td>0.0</td>\n      <td>0.0</td>\n      <td>0.0</td>\n      <td>0.0</td>\n      <td>0.0</td>\n      <td>0.0</td>\n      <td>...</td>\n      <td>0.0</td>\n      <td>0.0</td>\n      <td>0.0</td>\n      <td>0.0</td>\n      <td>0.0</td>\n      <td>0.0</td>\n      <td>0.0</td>\n      <td>0.0</td>\n      <td>0.0</td>\n      <td>0.0</td>\n    </tr>\n    <tr>\n      <th>15069</th>\n      <td>UKR</td>\n      <td>Ukraine</td>\n      <td>47.42N</td>\n      <td>31.97E</td>\n      <td>0.0</td>\n      <td>0.0</td>\n      <td>0.0</td>\n      <td>0.0</td>\n      <td>0.0</td>\n      <td>0.0</td>\n      <td>...</td>\n      <td>0.0</td>\n      <td>0.0</td>\n      <td>0.0</td>\n      <td>0.0</td>\n      <td>0.0</td>\n      <td>0.0</td>\n      <td>0.0</td>\n      <td>0.0</td>\n      <td>0.0</td>\n      <td>0.0</td>\n    </tr>\n    <tr>\n      <th>15221</th>\n      <td>UKR</td>\n      <td>Ukraine</td>\n      <td>50.63N</td>\n      <td>31.69E</td>\n      <td>0.0</td>\n      <td>0.0</td>\n      <td>0.0</td>\n      <td>0.0</td>\n      <td>0.0</td>\n      <td>0.0</td>\n      <td>...</td>\n      <td>0.0</td>\n      <td>0.0</td>\n      <td>0.0</td>\n      <td>0.0</td>\n      <td>0.0</td>\n      <td>0.0</td>\n      <td>0.0</td>\n      <td>0.0</td>\n      <td>0.0</td>\n      <td>0.0</td>\n    </tr>\n    <tr>\n      <th>18277</th>\n      <td>UKR</td>\n      <td>Ukraine</td>\n      <td>50.63N</td>\n      <td>31.69E</td>\n      <td>0.0</td>\n      <td>0.0</td>\n      <td>0.0</td>\n      <td>0.0</td>\n      <td>0.0</td>\n      <td>0.0</td>\n      <td>...</td>\n      <td>1.0</td>\n      <td>0.0</td>\n      <td>0.0</td>\n      <td>0.0</td>\n      <td>0.0</td>\n      <td>0.0</td>\n      <td>0.0</td>\n      <td>0.0</td>\n      <td>0.0</td>\n      <td>0.0</td>\n    </tr>\n    <tr>\n      <th>18460</th>\n      <td>UKR</td>\n      <td>Ukraine</td>\n      <td>50.63N</td>\n      <td>24.08E</td>\n      <td>0.0</td>\n      <td>0.0</td>\n      <td>0.0</td>\n      <td>0.0</td>\n      <td>0.0</td>\n      <td>0.0</td>\n      <td>...</td>\n      <td>1.0</td>\n      <td>0.0</td>\n      <td>0.0</td>\n      <td>0.0</td>\n      <td>0.0</td>\n      <td>0.0</td>\n      <td>0.0</td>\n      <td>0.0</td>\n      <td>0.0</td>\n      <td>0.0</td>\n    </tr>\n    <tr>\n      <th>21484</th>\n      <td>UKR</td>\n      <td>Ukraine</td>\n      <td>50.63N</td>\n      <td>24.08E</td>\n      <td>0.0</td>\n      <td>0.0</td>\n      <td>0.0</td>\n      <td>0.0</td>\n      <td>0.0</td>\n      <td>0.0</td>\n      <td>...</td>\n      <td>0.0</td>\n      <td>1.0</td>\n      <td>0.0</td>\n      <td>0.0</td>\n      <td>0.0</td>\n      <td>0.0</td>\n      <td>0.0</td>\n      <td>0.0</td>\n      <td>0.0</td>\n      <td>0.0</td>\n    </tr>\n    <tr>\n      <th>21699</th>\n      <td>FRA</td>\n      <td>France</td>\n      <td>42.59N</td>\n      <td>6.55E</td>\n      <td>0.0</td>\n      <td>0.0</td>\n      <td>0.0</td>\n      <td>0.0</td>\n      <td>0.0</td>\n      <td>0.0</td>\n      <td>...</td>\n      <td>0.0</td>\n      <td>1.0</td>\n      <td>0.0</td>\n      <td>0.0</td>\n      <td>0.0</td>\n      <td>0.0</td>\n      <td>0.0</td>\n      <td>0.0</td>\n      <td>0.0</td>\n      <td>0.0</td>\n    </tr>\n    <tr>\n      <th>24686</th>\n      <td>FRA</td>\n      <td>France</td>\n      <td>42.59N</td>\n      <td>6.55E</td>\n      <td>0.0</td>\n      <td>0.0</td>\n      <td>0.0</td>\n      <td>0.0</td>\n      <td>0.0</td>\n      <td>0.0</td>\n      <td>...</td>\n      <td>0.0</td>\n      <td>0.0</td>\n      <td>1.0</td>\n      <td>0.0</td>\n      <td>0.0</td>\n      <td>0.0</td>\n      <td>0.0</td>\n      <td>0.0</td>\n      <td>0.0</td>\n      <td>0.0</td>\n    </tr>\n    <tr>\n      <th>24938</th>\n      <td>UKR</td>\n      <td>Ukraine</td>\n      <td>45.81N</td>\n      <td>31.15E</td>\n      <td>0.0</td>\n      <td>0.0</td>\n      <td>0.0</td>\n      <td>0.0</td>\n      <td>0.0</td>\n      <td>0.0</td>\n      <td>...</td>\n      <td>0.0</td>\n      <td>0.0</td>\n      <td>1.0</td>\n      <td>0.0</td>\n      <td>0.0</td>\n      <td>0.0</td>\n      <td>0.0</td>\n      <td>0.0</td>\n      <td>0.0</td>\n      <td>0.0</td>\n    </tr>\n    <tr>\n      <th>27900</th>\n      <td>UKR</td>\n      <td>Ukraine</td>\n      <td>45.81N</td>\n      <td>31.15E</td>\n      <td>0.0</td>\n      <td>0.0</td>\n      <td>0.0</td>\n      <td>0.0</td>\n      <td>0.0</td>\n      <td>0.0</td>\n      <td>...</td>\n      <td>0.0</td>\n      <td>0.0</td>\n      <td>0.0</td>\n      <td>1.0</td>\n      <td>0.0</td>\n      <td>0.0</td>\n      <td>0.0</td>\n      <td>0.0</td>\n      <td>0.0</td>\n      <td>0.0</td>\n    </tr>\n    <tr>\n      <th>28177</th>\n      <td>FRA</td>\n      <td>France</td>\n      <td>49.03N</td>\n      <td>2.45E</td>\n      <td>0.0</td>\n      <td>0.0</td>\n      <td>0.0</td>\n      <td>0.0</td>\n      <td>0.0</td>\n      <td>0.0</td>\n      <td>...</td>\n      <td>0.0</td>\n      <td>0.0</td>\n      <td>0.0</td>\n      <td>1.0</td>\n      <td>0.0</td>\n      <td>0.0</td>\n      <td>0.0</td>\n      <td>0.0</td>\n      <td>0.0</td>\n      <td>0.0</td>\n    </tr>\n    <tr>\n      <th>31111</th>\n      <td>FRA</td>\n      <td>France</td>\n      <td>49.03N</td>\n      <td>2.45E</td>\n      <td>0.0</td>\n      <td>0.0</td>\n      <td>0.0</td>\n      <td>0.0</td>\n      <td>0.0</td>\n      <td>0.0</td>\n      <td>...</td>\n      <td>0.0</td>\n      <td>0.0</td>\n      <td>0.0</td>\n      <td>0.0</td>\n      <td>1.0</td>\n      <td>0.0</td>\n      <td>0.0</td>\n      <td>0.0</td>\n      <td>0.0</td>\n      <td>0.0</td>\n    </tr>\n    <tr>\n      <th>31416</th>\n      <td>SWE</td>\n      <td>Sweden</td>\n      <td>58.66N</td>\n      <td>18.46E</td>\n      <td>0.0</td>\n      <td>0.0</td>\n      <td>0.0</td>\n      <td>0.0</td>\n      <td>0.0</td>\n      <td>0.0</td>\n      <td>...</td>\n      <td>0.0</td>\n      <td>0.0</td>\n      <td>0.0</td>\n      <td>0.0</td>\n      <td>1.0</td>\n      <td>0.0</td>\n      <td>0.0</td>\n      <td>0.0</td>\n      <td>0.0</td>\n      <td>0.0</td>\n    </tr>\n    <tr>\n      <th>34317</th>\n      <td>SWE</td>\n      <td>Sweden</td>\n      <td>58.66N</td>\n      <td>18.46E</td>\n      <td>0.0</td>\n      <td>0.0</td>\n      <td>0.0</td>\n      <td>0.0</td>\n      <td>0.0</td>\n      <td>0.0</td>\n      <td>...</td>\n      <td>0.0</td>\n      <td>0.0</td>\n      <td>0.0</td>\n      <td>0.0</td>\n      <td>0.0</td>\n      <td>1.0</td>\n      <td>0.0</td>\n      <td>0.0</td>\n      <td>0.0</td>\n      <td>0.0</td>\n    </tr>\n    <tr>\n      <th>34655</th>\n      <td>JAP</td>\n      <td>Japan</td>\n      <td>36.17N</td>\n      <td>139.23E</td>\n      <td>0.0</td>\n      <td>0.0</td>\n      <td>0.0</td>\n      <td>0.0</td>\n      <td>0.0</td>\n      <td>0.0</td>\n      <td>...</td>\n      <td>0.0</td>\n      <td>0.0</td>\n      <td>0.0</td>\n      <td>0.0</td>\n      <td>0.0</td>\n      <td>1.0</td>\n      <td>0.0</td>\n      <td>0.0</td>\n      <td>0.0</td>\n      <td>0.0</td>\n    </tr>\n    <tr>\n      <th>36318</th>\n      <td>JAP</td>\n      <td>Japan</td>\n      <td>36.17N</td>\n      <td>139.23E</td>\n      <td>0.0</td>\n      <td>0.0</td>\n      <td>0.0</td>\n      <td>0.0</td>\n      <td>0.0</td>\n      <td>0.0</td>\n      <td>...</td>\n      <td>0.0</td>\n      <td>0.0</td>\n      <td>0.0</td>\n      <td>0.0</td>\n      <td>0.0</td>\n      <td>0.0</td>\n      <td>1.0</td>\n      <td>0.0</td>\n      <td>0.0</td>\n      <td>0.0</td>\n    </tr>\n    <tr>\n      <th>36680</th>\n      <td>JAP</td>\n      <td>Japan</td>\n      <td>34.56N</td>\n      <td>134.27E</td>\n      <td>0.0</td>\n      <td>0.0</td>\n      <td>0.0</td>\n      <td>0.0</td>\n      <td>0.0</td>\n      <td>0.0</td>\n      <td>...</td>\n      <td>0.0</td>\n      <td>0.0</td>\n      <td>0.0</td>\n      <td>0.0</td>\n      <td>0.0</td>\n      <td>0.0</td>\n      <td>1.0</td>\n      <td>0.0</td>\n      <td>0.0</td>\n      <td>0.0</td>\n    </tr>\n    <tr>\n      <th>38374</th>\n      <td>JAP</td>\n      <td>Japan</td>\n      <td>34.56N</td>\n      <td>134.27E</td>\n      <td>0.0</td>\n      <td>0.0</td>\n      <td>0.0</td>\n      <td>0.0</td>\n      <td>0.0</td>\n      <td>0.0</td>\n      <td>...</td>\n      <td>0.0</td>\n      <td>0.0</td>\n      <td>0.0</td>\n      <td>0.0</td>\n      <td>0.0</td>\n      <td>0.0</td>\n      <td>0.0</td>\n      <td>1.0</td>\n      <td>0.0</td>\n      <td>0.0</td>\n    </tr>\n    <tr>\n      <th>38753</th>\n      <td>SWE</td>\n      <td>Sweden</td>\n      <td>60.27N</td>\n      <td>16.22E</td>\n      <td>0.0</td>\n      <td>0.0</td>\n      <td>0.0</td>\n      <td>0.0</td>\n      <td>0.0</td>\n      <td>0.0</td>\n      <td>...</td>\n      <td>0.0</td>\n      <td>0.0</td>\n      <td>0.0</td>\n      <td>0.0</td>\n      <td>0.0</td>\n      <td>0.0</td>\n      <td>0.0</td>\n      <td>1.0</td>\n      <td>0.0</td>\n      <td>0.0</td>\n    </tr>\n    <tr>\n      <th>41575</th>\n      <td>SWE</td>\n      <td>Sweden</td>\n      <td>60.27N</td>\n      <td>16.22E</td>\n      <td>0.0</td>\n      <td>0.0</td>\n      <td>0.0</td>\n      <td>0.0</td>\n      <td>0.0</td>\n      <td>0.0</td>\n      <td>...</td>\n      <td>0.0</td>\n      <td>0.0</td>\n      <td>0.0</td>\n      <td>0.0</td>\n      <td>0.0</td>\n      <td>0.0</td>\n      <td>0.0</td>\n      <td>0.0</td>\n      <td>1.0</td>\n      <td>0.0</td>\n    </tr>\n    <tr>\n      <th>41992</th>\n      <td>POL</td>\n      <td>Poland</td>\n      <td>52.24N</td>\n      <td>21.02E</td>\n      <td>0.0</td>\n      <td>0.0</td>\n      <td>0.0</td>\n      <td>0.0</td>\n      <td>0.0</td>\n      <td>0.0</td>\n      <td>...</td>\n      <td>0.0</td>\n      <td>0.0</td>\n      <td>0.0</td>\n      <td>0.0</td>\n      <td>0.0</td>\n      <td>0.0</td>\n      <td>0.0</td>\n      <td>0.0</td>\n      <td>1.0</td>\n      <td>0.0</td>\n    </tr>\n    <tr>\n      <th>44778</th>\n      <td>POL</td>\n      <td>Poland</td>\n      <td>52.24N</td>\n      <td>21.02E</td>\n      <td>0.0</td>\n      <td>0.0</td>\n      <td>0.0</td>\n      <td>0.0</td>\n      <td>0.0</td>\n      <td>0.0</td>\n      <td>...</td>\n      <td>0.0</td>\n      <td>0.0</td>\n      <td>0.0</td>\n      <td>0.0</td>\n      <td>0.0</td>\n      <td>0.0</td>\n      <td>0.0</td>\n      <td>0.0</td>\n      <td>0.0</td>\n      <td>1.0</td>\n    </tr>\n    <tr>\n      <th>45231</th>\n      <td>POL</td>\n      <td>Poland</td>\n      <td>50.63N</td>\n      <td>16.48E</td>\n      <td>0.0</td>\n      <td>0.0</td>\n      <td>0.0</td>\n      <td>0.0</td>\n      <td>0.0</td>\n      <td>0.0</td>\n      <td>...</td>\n      <td>0.0</td>\n      <td>0.0</td>\n      <td>0.0</td>\n      <td>0.0</td>\n      <td>0.0</td>\n      <td>0.0</td>\n      <td>0.0</td>\n      <td>0.0</td>\n      <td>0.0</td>\n      <td>1.0</td>\n    </tr>\n  </tbody>\n</table>\n<p>35 rows × 22 columns</p>\n</div>"
     },
     "metadata": {},
     "execution_count": 80
    }
   ],
   "source": [
    "nf = nf.drop([\"City\"], axis=1)\n",
    "nf = nf.drop_duplicates()\n",
    "nf"
   ]
  },
  {
   "cell_type": "code",
   "execution_count": 110,
   "metadata": {},
   "outputs": [],
   "source": [
    "ds = [['milk','eggs','bread'],['milk','bread'],['eggs','sugar'],['coffee','sugar'],['onion','coffee','carrot','icecream']]"
   ]
  },
  {
   "cell_type": "code",
   "execution_count": 111,
   "metadata": {},
   "outputs": [],
   "source": [
    "from mlxtend.preprocessing import TransactionEncoder"
   ]
  },
  {
   "cell_type": "code",
   "execution_count": 112,
   "metadata": {},
   "outputs": [],
   "source": [
    "encoder = TransactionEncoder().fit(ds)"
   ]
  },
  {
   "cell_type": "code",
   "execution_count": 113,
   "metadata": {},
   "outputs": [],
   "source": [
    "onehot = encoder.transform(ds)"
   ]
  },
  {
   "cell_type": "code",
   "execution_count": 114,
   "metadata": {},
   "outputs": [],
   "source": [
    "onehot=pd.DataFrame(onehot,columns=encoder.columns_)"
   ]
  },
  {
   "cell_type": "code",
   "execution_count": 115,
   "metadata": {},
   "outputs": [],
   "source": [
    "import scipy.spatial as sp"
   ]
  },
  {
   "cell_type": "code",
   "execution_count": 117,
   "metadata": {},
   "outputs": [
    {
     "output_type": "execute_result",
     "data": {
      "text/plain": [
       "array([[0.        , 0.33333333, 0.75      , 1.        , 1.        ],\n",
       "       [0.33333333, 0.        , 1.        , 1.        , 1.        ],\n",
       "       [0.75      , 1.        , 0.        , 0.66666667, 1.        ],\n",
       "       [1.        , 1.        , 0.66666667, 0.        , 0.8       ],\n",
       "       [1.        , 1.        , 1.        , 0.8       , 0.        ]])"
      ]
     },
     "metadata": {},
     "execution_count": 117
    }
   ],
   "source": [
    "jaccard=sp.distance.cdist(onehot,onehot,metric='jaccard')\n",
    "jaccard"
   ]
  },
  {
   "cell_type": "code",
   "execution_count": 118,
   "metadata": {},
   "outputs": [
    {
     "output_type": "execute_result",
     "data": {
      "text/plain": [
       "          0         1         2         3    4\n",
       "0  0.000000  0.333333  0.750000  1.000000  1.0\n",
       "1  0.333333  0.000000  1.000000  1.000000  1.0\n",
       "2  0.750000  1.000000  0.000000  0.666667  1.0\n",
       "3  1.000000  1.000000  0.666667  0.000000  0.8\n",
       "4  1.000000  1.000000  1.000000  0.800000  0.0"
      ],
      "text/html": "<div>\n<style scoped>\n    .dataframe tbody tr th:only-of-type {\n        vertical-align: middle;\n    }\n\n    .dataframe tbody tr th {\n        vertical-align: top;\n    }\n\n    .dataframe thead th {\n        text-align: right;\n    }\n</style>\n<table border=\"1\" class=\"dataframe\">\n  <thead>\n    <tr style=\"text-align: right;\">\n      <th></th>\n      <th>0</th>\n      <th>1</th>\n      <th>2</th>\n      <th>3</th>\n      <th>4</th>\n    </tr>\n  </thead>\n  <tbody>\n    <tr>\n      <th>0</th>\n      <td>0.000000</td>\n      <td>0.333333</td>\n      <td>0.750000</td>\n      <td>1.000000</td>\n      <td>1.0</td>\n    </tr>\n    <tr>\n      <th>1</th>\n      <td>0.333333</td>\n      <td>0.000000</td>\n      <td>1.000000</td>\n      <td>1.000000</td>\n      <td>1.0</td>\n    </tr>\n    <tr>\n      <th>2</th>\n      <td>0.750000</td>\n      <td>1.000000</td>\n      <td>0.000000</td>\n      <td>0.666667</td>\n      <td>1.0</td>\n    </tr>\n    <tr>\n      <th>3</th>\n      <td>1.000000</td>\n      <td>1.000000</td>\n      <td>0.666667</td>\n      <td>0.000000</td>\n      <td>0.8</td>\n    </tr>\n    <tr>\n      <th>4</th>\n      <td>1.000000</td>\n      <td>1.000000</td>\n      <td>1.000000</td>\n      <td>0.800000</td>\n      <td>0.0</td>\n    </tr>\n  </tbody>\n</table>\n</div>"
     },
     "metadata": {},
     "execution_count": 118
    }
   ],
   "source": [
    "jac=pd.DataFrame(jaccard,columns=onehot.index.values,index=onehot.index.values)\n",
    "jac"
   ]
  },
  {
   "source": [
    "1 close to 0, 2 close to 3, 4 close to 3"
   ],
   "cell_type": "markdown",
   "metadata": {}
  },
  {
   "cell_type": "code",
   "execution_count": 124,
   "metadata": {},
   "outputs": [
    {
     "output_type": "stream",
     "name": "stdout",
     "text": [
      "5.401260141032934\n5.301991240195623\n5.244706325853188\n5.223451391986379\n5.083306010855534\n"
     ]
    }
   ],
   "source": [
    "from scipy.spatial import distance\n",
    "mink_dist0 = distance.minkowski(jac[0],3)\n",
    "mink_dist1 = distance.minkowski(jac[1],3)\n",
    "mink_dist2 = distance.minkowski(jac[2],3)\n",
    "mink_dist3 = distance.minkowski(jac[3],3)\n",
    "mink_dist4 = distance.minkowski(jac[4],3)\n",
    "print(mink_dist0)\n",
    "print(mink_dist1)\n",
    "print(mink_dist2)\n",
    "print(mink_dist3)\n",
    "print(mink_dist4)"
   ]
  },
  {
   "source": [
    "0 is closer to everyone compared to others"
   ],
   "cell_type": "markdown",
   "metadata": {}
  }
 ]
}